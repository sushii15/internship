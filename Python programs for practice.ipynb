{
  "nbformat": 4,
  "nbformat_minor": 0,
  "metadata": {
    "colab": {
      "provenance": []
    },
    "kernelspec": {
      "name": "python3",
      "display_name": "Python 3"
    },
    "language_info": {
      "name": "python"
    }
  },
  "cells": [
    {
      "cell_type": "code",
      "source": [
        "!pip install notebook\n",
        "!pip install ipython\n"
      ],
      "metadata": {
        "id": "AurM1r-G48xB"
      },
      "execution_count": null,
      "outputs": []
    },
    {
      "cell_type": "markdown",
      "source": [
        "**1. Prime Number Checker:\n",
        "Check if a given number is prime or not.**\n",
        "\n"
      ],
      "metadata": {
        "id": "-C31pSrGrok_"
      }
    },
    {
      "cell_type": "code",
      "execution_count": 65,
      "metadata": {
        "id": "Kr6w3zwToLnb",
        "colab": {
          "base_uri": "https://localhost:8080/"
        },
        "outputId": "79aac920-8e7c-47dc-ef37-c2bbcabfb74e"
      },
      "outputs": [
        {
          "output_type": "stream",
          "name": "stdout",
          "text": [
            "Enter a number: 7\n",
            "Prime number\n"
          ]
        }
      ],
      "source": [
        "num = int(input(\"Enter a number: \"))\n",
        "if num > 1:\n",
        "    is_prime = True\n",
        "    i = 2\n",
        "    while i < num:\n",
        "        if num % i == 0:\n",
        "            is_prime = False\n",
        "            break\n",
        "        i += 1\n",
        "    if is_prime:\n",
        "        print(\"Prime number\")\n",
        "    else:\n",
        "        print(\"Not a prime number\")\n",
        "else:\n",
        "    print(\"Not a prime number\")\n"
      ]
    },
    {
      "cell_type": "markdown",
      "source": [
        "**2.Leap Year Checker:\n",
        "Determine if a given year is a leap year.**\n"
      ],
      "metadata": {
        "id": "fSPPISjvsyuq"
      }
    },
    {
      "cell_type": "code",
      "source": [
        "year = int(input(\"Enter a year: \"))\n",
        "if (year % 4 == 0 and year % 100 != 0) or (year % 400 == 0):\n",
        "    print(\"Leap Year\")\n",
        "else:\n",
        "    print(\"Not a Leap Year\")\n"
      ],
      "metadata": {
        "id": "wJ6dJRX_oapD",
        "colab": {
          "base_uri": "https://localhost:8080/"
        },
        "outputId": "1f73bceb-fdb6-4cbe-d4a8-4bd9631cea6b"
      },
      "execution_count": 66,
      "outputs": [
        {
          "output_type": "stream",
          "name": "stdout",
          "text": [
            "Enter a year: 2021\n",
            "Not a Leap Year\n"
          ]
        }
      ]
    },
    {
      "cell_type": "markdown",
      "source": [
        "**3.Largest of Three Numbers:\n",
        "Find the largest number among three inputs.**\n"
      ],
      "metadata": {
        "id": "lEtEzVXztI2n"
      }
    },
    {
      "cell_type": "code",
      "source": [
        "a = int(input(\"Enter first number: \"))\n",
        "b = int(input(\"Enter second number: \"))\n",
        "c = int(input(\"Enter third number: \"))\n",
        "\n",
        "if a >= b and a >= c:\n",
        "    print(\"Largest:\", a)\n",
        "elif b >= a and b >= c:\n",
        "    print(\"Largest:\", b)\n",
        "else:\n",
        "    print(\"Largest:\", c)\n"
      ],
      "metadata": {
        "id": "2SL759ZComBe",
        "colab": {
          "base_uri": "https://localhost:8080/"
        },
        "outputId": "42c92cbd-fb02-4bbb-be24-a94cdb9cda37"
      },
      "execution_count": 67,
      "outputs": [
        {
          "output_type": "stream",
          "name": "stdout",
          "text": [
            "Enter first number: 8\n",
            "Enter second number: 10\n",
            "Enter third number: 11\n",
            "Largest: 11\n"
          ]
        }
      ]
    },
    {
      "cell_type": "markdown",
      "source": [
        "**4.Grading System:\n",
        "Convert marks into grades based on given conditions (e.g., 90+ is A).**\n"
      ],
      "metadata": {
        "id": "AQ3dZQXetam9"
      }
    },
    {
      "cell_type": "code",
      "source": [
        "marks = int(input(\"Enter marks (0-100): \"))\n",
        "\n",
        "if marks >= 90:\n",
        "    print(\"Grade: A\")\n",
        "elif marks >= 80:\n",
        "    print(\"Grade: B\")\n",
        "elif marks >= 70:\n",
        "    print(\"Grade: C\")\n",
        "elif marks >= 60:\n",
        "    print(\"Grade: D\")\n",
        "else:\n",
        "    print(\"Grade: F\")\n"
      ],
      "metadata": {
        "id": "ljZpnacRot47",
        "colab": {
          "base_uri": "https://localhost:8080/"
        },
        "outputId": "0121c731-780a-4666-ee65-b7cf82853b7e"
      },
      "execution_count": 68,
      "outputs": [
        {
          "output_type": "stream",
          "name": "stdout",
          "text": [
            "Enter marks (0-100): 53\n",
            "Grade: F\n"
          ]
        }
      ]
    },
    {
      "cell_type": "markdown",
      "source": [
        "**5.Triangle Validity:\n",
        "Check if three given sides can form a valid triangle.**\n"
      ],
      "metadata": {
        "id": "D5j8idw_tkBx"
      }
    },
    {
      "cell_type": "code",
      "source": [
        "a = int(input(\"Enter first side: \"))\n",
        "b = int(input(\"Enter second side: \"))\n",
        "c = int(input(\"Enter third side: \"))\n",
        "\n",
        "if a + b > c and b + c > a and a + c > b:\n",
        "    print(\"Valid Triangle\")\n",
        "else:\n",
        "    print(\"Invalid Triangle\")\n"
      ],
      "metadata": {
        "id": "VQZMEDMao4W7",
        "colab": {
          "base_uri": "https://localhost:8080/"
        },
        "outputId": "92f56560-6787-454f-abbe-47e567323b3a"
      },
      "execution_count": 72,
      "outputs": [
        {
          "output_type": "stream",
          "name": "stdout",
          "text": [
            "Enter first side: 3\n",
            "Enter second side: 2\n",
            "Enter third side: 5\n",
            "Invalid Triangle\n"
          ]
        }
      ]
    },
    {
      "cell_type": "markdown",
      "source": [
        "**6.Palindrome Number:\n",
        "Check if a given number is a palindrome.**\n",
        "\n",
        "\n"
      ],
      "metadata": {
        "id": "uuTciEOotzxO"
      }
    },
    {
      "cell_type": "code",
      "source": [
        "num = int(input(\"Enter a number: \"))\n",
        "original = num\n",
        "rev = 0\n",
        "\n",
        "while num > 0:\n",
        "    digit = num % 10\n",
        "    rev = rev * 10 + digit\n",
        "    num //= 10\n",
        "\n",
        "if original == rev:\n",
        "    print(\"Palindrome Number\")\n",
        "else:\n",
        "    print(\"Not a Palindrome\")\n"
      ],
      "metadata": {
        "id": "Z5XCTlanpNNu",
        "colab": {
          "base_uri": "https://localhost:8080/"
        },
        "outputId": "f0cb7667-1692-4e7e-8b57-631c34ecd716"
      },
      "execution_count": 74,
      "outputs": [
        {
          "output_type": "stream",
          "name": "stdout",
          "text": [
            "Enter a number: 77\n",
            "Palindrome Number\n"
          ]
        }
      ]
    },
    {
      "cell_type": "markdown",
      "source": [
        "**7.Armstrong Number:\n",
        "Verify if a number is an Armstrong number.**\n"
      ],
      "metadata": {
        "id": "F6enN1Int8zV"
      }
    },
    {
      "cell_type": "code",
      "source": [
        "num = int(input(\"Enter a number: \"))\n",
        "sum = 0\n",
        "temp = num\n",
        "order = len(str(num))\n",
        "\n",
        "while temp > 0:\n",
        "    digit = temp % 10\n",
        "    sum += digit ** order\n",
        "    temp //= 10\n",
        "\n",
        "if num == sum:\n",
        "    print(\"Armstrong Number\")\n",
        "else:\n",
        "    print(\"Not an Armstrong Number\")\n"
      ],
      "metadata": {
        "id": "kkOm8FKvpjZR",
        "colab": {
          "base_uri": "https://localhost:8080/"
        },
        "outputId": "c24b15ba-57a6-499f-8581-f43a296a5d0b"
      },
      "execution_count": 75,
      "outputs": [
        {
          "output_type": "stream",
          "name": "stdout",
          "text": [
            "Enter a number: 153\n",
            "Armstrong Number\n"
          ]
        }
      ]
    },
    {
      "cell_type": "markdown",
      "source": [
        "**8.Sum of Even and Odd Numbers:\n",
        "Calculate the sum of even and odd numbers in a given range.**\n"
      ],
      "metadata": {
        "id": "dDKJ3jj7uB6s"
      }
    },
    {
      "cell_type": "code",
      "source": [
        "start = int(input(\"Enter start of range: \"))\n",
        "end = int(input(\"Enter end of range: \"))\n",
        "\n",
        "even_sum = 0\n",
        "odd_sum = 0\n",
        "i = start\n",
        "\n",
        "while i <= end:\n",
        "    if i % 2 == 0:\n",
        "        even_sum += i\n",
        "    else:\n",
        "        odd_sum += i\n",
        "    i += 1\n",
        "\n",
        "print(\"Sum of even numbers:\", even_sum)\n",
        "print(\"Sum of odd numbers:\", odd_sum)\n"
      ],
      "metadata": {
        "id": "9h8DvzNuqj6O",
        "colab": {
          "base_uri": "https://localhost:8080/"
        },
        "outputId": "1528944a-a4df-4238-b348-780a18622be4"
      },
      "execution_count": 76,
      "outputs": [
        {
          "output_type": "stream",
          "name": "stdout",
          "text": [
            "Enter start of range: 8\n",
            "Enter end of range: 90\n",
            "Sum of even numbers: 2058\n",
            "Sum of odd numbers: 2009\n"
          ]
        }
      ]
    },
    {
      "cell_type": "markdown",
      "source": [
        "**9.Fibonacci Sequence:\n",
        "Generate a Fibonacci sequence up to a specified number of terms.**\n",
        "\n"
      ],
      "metadata": {
        "id": "kS0pv9PXuLQC"
      }
    },
    {
      "cell_type": "code",
      "source": [
        "n = int(input(\"Enter number of terms: \"))\n",
        "\n",
        "a = 0\n",
        "b = 1\n",
        "count = 0\n",
        "\n",
        "while count < n:\n",
        "    print(a, end=' ')\n",
        "    next = a + b\n",
        "    a = b\n",
        "    b = next\n",
        "    count += 1\n"
      ],
      "metadata": {
        "id": "scrh8bGtq4gG",
        "colab": {
          "base_uri": "https://localhost:8080/"
        },
        "outputId": "b52986ab-33e5-46cf-fddf-b44dd5d8d0e4"
      },
      "execution_count": 78,
      "outputs": [
        {
          "output_type": "stream",
          "name": "stdout",
          "text": [
            "Enter number of terms: 4\n",
            "0 1 1 2 "
          ]
        }
      ]
    },
    {
      "cell_type": "markdown",
      "source": [
        "**10. Factorial Calculator:\n",
        "Compute the factorial of a given number using conditional logic.**\n",
        "\n"
      ],
      "metadata": {
        "id": "hRZDy651uVn_"
      }
    },
    {
      "cell_type": "code",
      "source": [
        "num = int(input(\"Enter a number: \"))\n",
        "factorial = 1\n",
        "\n",
        "if num < 0:\n",
        "    print(\"Factorial does not exist for negative numbers\")\n",
        "elif num == 0:\n",
        "    print(\"Factorial is 1\")\n",
        "else:\n",
        "    i = 1\n",
        "    while i <= num:\n",
        "        factorial *= i\n",
        "        i += 1\n",
        "    print(\"Factorial is\", factorial)\n"
      ],
      "metadata": {
        "id": "K4tNpV__rB1z",
        "colab": {
          "base_uri": "https://localhost:8080/"
        },
        "outputId": "8c7a6431-2bc3-4347-cdf1-5ff93cc1eb7a"
      },
      "execution_count": 77,
      "outputs": [
        {
          "output_type": "stream",
          "name": "stdout",
          "text": [
            "Enter a number: 8\n",
            "Factorial is 40320\n"
          ]
        }
      ]
    },
    {
      "cell_type": "markdown",
      "source": [
        "**11.Reverse a String:\n",
        "Reverse a given string without using slicing.**\n",
        "\n"
      ],
      "metadata": {
        "id": "KSJ23XkBvgCj"
      }
    },
    {
      "cell_type": "code",
      "source": [
        "s = input(\"Enter a string: \")\n",
        "reversed_str = \"\"\n",
        "i = len(s) - 1\n",
        "\n",
        "while i >= 0:\n",
        "    reversed_str += s[i]\n",
        "    i -= 1\n",
        "\n",
        "print(\"Reversed string:\", reversed_str)\n"
      ],
      "metadata": {
        "id": "KCJJl4hbvskz",
        "colab": {
          "base_uri": "https://localhost:8080/"
        },
        "outputId": "3eb8a0af-8014-42be-f0f2-d3ebf1464808"
      },
      "execution_count": 1,
      "outputs": [
        {
          "output_type": "stream",
          "name": "stdout",
          "text": [
            "Enter a string: dude\n",
            "Reversed string: edud\n"
          ]
        }
      ]
    },
    {
      "cell_type": "markdown",
      "source": [
        "**12.Count Vowels and Consonants:\n",
        "Count the number of vowels and consonants in a string.**\n"
      ],
      "metadata": {
        "id": "4yghmuREwa-X"
      }
    },
    {
      "cell_type": "code",
      "source": [
        "s = input(\"Enter a string: \")\n",
        "vowels = 0\n",
        "consonants = 0\n",
        "i = 0\n",
        "\n",
        "while i < len(s):\n",
        "    ch = s[i].lower()\n",
        "    if ch in 'aeiou':\n",
        "        vowels += 1\n",
        "    elif ch.isalpha():\n",
        "        consonants += 1\n",
        "    i += 1\n",
        "\n",
        "print(\"Vowels:\", vowels)\n",
        "print(\"Consonants:\", consonants)\n"
      ],
      "metadata": {
        "id": "4xxTYbbjyCiM",
        "colab": {
          "base_uri": "https://localhost:8080/"
        },
        "outputId": "36f0826e-4eb3-4c5b-f523-797c41712c78"
      },
      "execution_count": 2,
      "outputs": [
        {
          "output_type": "stream",
          "name": "stdout",
          "text": [
            "Enter a string: potato\n",
            "Vowels: 3\n",
            "Consonants: 3\n"
          ]
        }
      ]
    },
    {
      "cell_type": "markdown",
      "source": [
        "**13. Check Substring:\n",
        "Check if one string is a substring of another.**\n"
      ],
      "metadata": {
        "id": "VuCHLRDEwdDa"
      }
    },
    {
      "cell_type": "code",
      "source": [
        "main_str = input(\"Enter the main string: \")\n",
        "sub_str = input(\"Enter the substring: \")\n",
        "\n",
        "if sub_str in main_str:\n",
        "    print(\"Substring found\")\n",
        "else:\n",
        "    print(\"Substring not found\")\n"
      ],
      "metadata": {
        "id": "PegPig3jyGqd",
        "colab": {
          "base_uri": "https://localhost:8080/"
        },
        "outputId": "09530805-8c2c-4a0d-ef42-06a66006f2ea"
      },
      "execution_count": 3,
      "outputs": [
        {
          "output_type": "stream",
          "name": "stdout",
          "text": [
            "Enter the main string: yesterday\n",
            "Enter the substring: tes\n",
            "Substring not found\n"
          ]
        }
      ]
    },
    {
      "cell_type": "markdown",
      "source": [
        "**14. String Anagram Check:\n",
        "Determine if two strings are anagrams of each other.**"
      ],
      "metadata": {
        "id": "BfYR74w-wkbp"
      }
    },
    {
      "cell_type": "code",
      "source": [
        "s1 = input(\"Enter first string: \")\n",
        "s2 = input(\"Enter second string: \")\n",
        "\n",
        "if sorted(s1) == sorted(s2):\n",
        "    print(\"Anagram\")\n",
        "else:\n",
        "    print(\"Not an Anagram\")\n"
      ],
      "metadata": {
        "id": "2Eocxu7TyIkb",
        "colab": {
          "base_uri": "https://localhost:8080/"
        },
        "outputId": "387e524a-497b-4b60-8e19-bd2849159067"
      },
      "execution_count": 6,
      "outputs": [
        {
          "output_type": "stream",
          "name": "stdout",
          "text": [
            "Enter first string: fried\n",
            "Enter second string: fired\n",
            "Anagram\n"
          ]
        }
      ]
    },
    {
      "cell_type": "markdown",
      "source": [
        "**15.Remove Duplicates:\n",
        "Remove duplicate characters from a string**"
      ],
      "metadata": {
        "id": "ncC_mQHyw3lg"
      }
    },
    {
      "cell_type": "code",
      "source": [
        "s = input(\"Enter a string: \")\n",
        "result = \"\"\n",
        "i = 0\n",
        "\n",
        "while i < len(s):\n",
        "    if s[i] not in result:\n",
        "        result += s[i]\n",
        "    i += 1\n",
        "\n",
        "print(\"Without duplicates:\", result)\n"
      ],
      "metadata": {
        "id": "5j8m0-fVyLZf",
        "colab": {
          "base_uri": "https://localhost:8080/"
        },
        "outputId": "3753e0f4-b96b-4514-a71a-a9fca5e584fa"
      },
      "execution_count": 7,
      "outputs": [
        {
          "output_type": "stream",
          "name": "stdout",
          "text": [
            "Enter a string: yess\n",
            "Without duplicates: yes\n"
          ]
        }
      ]
    },
    {
      "cell_type": "markdown",
      "source": [
        "**16.Longest Word in a Sentence:\n",
        "Find the longest word in a given sentence.**\n"
      ],
      "metadata": {
        "id": "2N7Lmui4w_Nu"
      }
    },
    {
      "cell_type": "code",
      "source": [
        "sentence = input(\"Enter a sentence: \")\n",
        "words = sentence.split()\n",
        "longest = \"\"\n",
        "\n",
        "i = 0\n",
        "while i < len(words):\n",
        "    if len(words[i]) > len(longest):\n",
        "        longest = words[i]\n",
        "    i += 1\n",
        "\n",
        "print(\"Longest word:\", longest)\n"
      ],
      "metadata": {
        "id": "cOrm5Jm3yPD_",
        "colab": {
          "base_uri": "https://localhost:8080/"
        },
        "outputId": "23db74b1-eddb-46a6-b585-f4215e05aa7a"
      },
      "execution_count": 8,
      "outputs": [
        {
          "output_type": "stream",
          "name": "stdout",
          "text": [
            "Enter a sentence: I am an intern.\n",
            "Longest word: intern.\n"
          ]
        }
      ]
    },
    {
      "cell_type": "markdown",
      "source": [
        "**17.Character Frequency:\n",
        "Count the frequency of each character in a string.**\n"
      ],
      "metadata": {
        "id": "7njwURlZxNTw"
      }
    },
    {
      "cell_type": "code",
      "source": [
        "s = input(\"Enter a string: \")\n",
        "freq = {}\n",
        "i = 0\n",
        "\n",
        "while i < len(s):\n",
        "    ch = s[i]\n",
        "    if ch in freq:\n",
        "        freq[ch] += 1\n",
        "    else:\n",
        "        freq[ch] = 1\n",
        "    i += 1\n",
        "\n",
        "print(\"Character frequencies:\")\n",
        "for ch in freq:\n",
        "    print(ch, \":\", freq[ch])\n"
      ],
      "metadata": {
        "id": "LYx_OZtLyQFL",
        "colab": {
          "base_uri": "https://localhost:8080/"
        },
        "outputId": "9a69d845-72e8-4c18-89c3-5b8f82923039"
      },
      "execution_count": 9,
      "outputs": [
        {
          "output_type": "stream",
          "name": "stdout",
          "text": [
            "Enter a string: banana\n",
            "Character frequencies:\n",
            "b : 1\n",
            "a : 3\n",
            "n : 2\n"
          ]
        }
      ]
    },
    {
      "cell_type": "markdown",
      "source": [
        "**18.First Non-Repeating Character:\n",
        "Find the first non-repeating character in a string.**\n"
      ],
      "metadata": {
        "id": "ZBwBVUqexUY4"
      }
    },
    {
      "cell_type": "code",
      "source": [
        "s = input(\"Enter a string: \")\n",
        "freq = {}\n",
        "i = 0\n",
        "\n",
        "while i < len(s):\n",
        "    ch = s[i]\n",
        "    if ch in freq:\n",
        "        freq[ch] += 1\n",
        "    else:\n",
        "        freq[ch] = 1\n",
        "    i += 1\n",
        "\n",
        "i = 0\n",
        "while i < len(s):\n",
        "    if freq[s[i]] == 1:\n",
        "        print(\"First non-repeating character:\", s[i])\n",
        "        break\n",
        "    i += 1\n"
      ],
      "metadata": {
        "id": "ljIJ7rq8ySkE",
        "colab": {
          "base_uri": "https://localhost:8080/"
        },
        "outputId": "346a542f-4738-4d46-8a82-49dfc2f48699"
      },
      "execution_count": 10,
      "outputs": [
        {
          "output_type": "stream",
          "name": "stdout",
          "text": [
            "Enter a string: aana\n",
            "First non-repeating character: n\n"
          ]
        }
      ]
    },
    {
      "cell_type": "markdown",
      "source": [
        "**19.Title Case Conversion:\n",
        "Convert a string to title case (e.g., \"hello world\" → \"Hello World\").**"
      ],
      "metadata": {
        "id": "SmLl0wMbxaFV"
      }
    },
    {
      "cell_type": "code",
      "source": [
        "s = input(\"Enter a string: \")\n",
        "words = s.split()\n",
        "title_case = \"\"\n",
        "i = 0\n",
        "\n",
        "while i < len(words):\n",
        "    word = words[i]\n",
        "    title_case += word[0].upper() + word[1:].lower() + \" \"\n",
        "    i += 1\n",
        "\n",
        "print(\"Title case:\", title_case.strip())\n"
      ],
      "metadata": {
        "id": "vUN4ETdByUp-",
        "colab": {
          "base_uri": "https://localhost:8080/"
        },
        "outputId": "99c202d4-1d92-4d27-d678-2ebc05c6d1af"
      },
      "execution_count": 11,
      "outputs": [
        {
          "output_type": "stream",
          "name": "stdout",
          "text": [
            "Enter a string: hello World\n",
            "Title case: Hello World\n"
          ]
        }
      ]
    },
    {
      "cell_type": "markdown",
      "source": [
        "**20.Palindrome Check:\n",
        "Check if a given string is a palindrome.**\n"
      ],
      "metadata": {
        "id": "fKUjI4bdxeZ7"
      }
    },
    {
      "cell_type": "code",
      "source": [
        "s = input(\"Enter a string: \")\n",
        "reversed_s = \"\"\n",
        "i = len(s) - 1\n",
        "\n",
        "while i >= 0:\n",
        "    reversed_s += s[i]\n",
        "    i -= 1\n",
        "\n",
        "if s == reversed_s:\n",
        "    print(\"Palindrome\")\n",
        "else:\n",
        "    print(\"Not a Palindrome\")\n"
      ],
      "metadata": {
        "id": "wA42C5MCyVjj",
        "colab": {
          "base_uri": "https://localhost:8080/"
        },
        "outputId": "26584320-4380-4706-963c-0db6f1bb2de5"
      },
      "execution_count": 12,
      "outputs": [
        {
          "output_type": "stream",
          "name": "stdout",
          "text": [
            "Enter a string: dad\n",
            "Palindrome\n"
          ]
        }
      ]
    },
    {
      "cell_type": "markdown",
      "source": [
        "**21.Find Maximum and Minimum:\n",
        "Find the largest and smallest numbers in a list.**\n"
      ],
      "metadata": {
        "id": "X8LbVi-tz7i1"
      }
    },
    {
      "cell_type": "code",
      "source": [
        "numbers = input(\"Enter numbers: \").split()\n",
        "i = 0\n",
        "max_val = int(numbers[0])\n",
        "min_val = int(numbers[0])\n",
        "\n",
        "while i < len(numbers):\n",
        "    num = int(numbers[i])\n",
        "    if num > max_val:\n",
        "        max_val = num\n",
        "    if num < min_val:\n",
        "        min_val = num\n",
        "    i += 1\n",
        "\n",
        "print(\"Max:\", max_val)\n",
        "print(\"Min:\", min_val)\n"
      ],
      "metadata": {
        "id": "xeADdyj-0GOp",
        "colab": {
          "base_uri": "https://localhost:8080/"
        },
        "outputId": "1670d2fa-8e32-47d3-b636-38223d902982"
      },
      "execution_count": 14,
      "outputs": [
        {
          "output_type": "stream",
          "name": "stdout",
          "text": [
            "Enter numbers: 1 10 11 0 21\n",
            "Max: 21\n",
            "Min: 0\n"
          ]
        }
      ]
    },
    {
      "cell_type": "markdown",
      "source": [
        "**22.List Reversal:\n",
        "Reverse a list without using the reverse() method.**"
      ],
      "metadata": {
        "id": "lGsULixd0G0C"
      }
    },
    {
      "cell_type": "code",
      "source": [
        "numbers = input(\"Enter numbers: \").split()\n",
        "i = len(numbers) - 1\n",
        "reversed_list = []\n",
        "\n",
        "while i >= 0:\n",
        "    reversed_list.append(numbers[i])\n",
        "    i -= 1\n",
        "\n",
        "print(\"Reversed list:\", reversed_list)\n"
      ],
      "metadata": {
        "id": "RPKPFsqL0KwI",
        "colab": {
          "base_uri": "https://localhost:8080/"
        },
        "outputId": "1fced1de-4ee0-4085-fbe7-4112283e0f0d"
      },
      "execution_count": 15,
      "outputs": [
        {
          "output_type": "stream",
          "name": "stdout",
          "text": [
            "Enter numbers: 0 1 2 3 4 5\n",
            "Reversed list: ['5', '4', '3', '2', '1', '0']\n"
          ]
        }
      ]
    },
    {
      "cell_type": "markdown",
      "source": [
        "**23.Remove Duplicates from List:\n",
        "Remove duplicates from a list while maintaining order.**"
      ],
      "metadata": {
        "id": "ocIvf88Z0LNV"
      }
    },
    {
      "cell_type": "code",
      "source": [
        "numbers = input(\"Enter numbers: \").split()\n",
        "i = 0\n",
        "unique = []\n",
        "\n",
        "while i < len(numbers):\n",
        "    if numbers[i] not in unique:\n",
        "        unique.append(numbers[i])\n",
        "    i += 1\n",
        "\n",
        "print(\"List without duplicates:\", unique)\n"
      ],
      "metadata": {
        "id": "YGoPAqqR0T2O",
        "colab": {
          "base_uri": "https://localhost:8080/"
        },
        "outputId": "b30c5965-31d4-4b61-e536-5c53d40eea2a"
      },
      "execution_count": 17,
      "outputs": [
        {
          "output_type": "stream",
          "name": "stdout",
          "text": [
            "Enter numbers: 1 3 4 3 5 8\n",
            "List without duplicates: ['1', '3', '4', '5', '8']\n"
          ]
        }
      ]
    },
    {
      "cell_type": "markdown",
      "source": [
        "**24.List Rotation:\n",
        "Rotate a list by a given number of positions.**"
      ],
      "metadata": {
        "id": "j2PJHa6_0UcQ"
      }
    },
    {
      "cell_type": "code",
      "source": [
        "numbers = input(\"Enter numbers: \").split()\n",
        "k = int(input(\"Enter how many times to rotate: \"))\n",
        "i = 0\n",
        "rotated = []\n",
        "\n",
        "while i < len(numbers):\n",
        "    new_index = (i + k) % len(numbers)\n",
        "    rotated.append(numbers[new_index])\n",
        "    i += 1\n",
        "\n",
        "print(\"Rotated list:\", rotated)\n"
      ],
      "metadata": {
        "id": "wj1gKZWC0aO1",
        "colab": {
          "base_uri": "https://localhost:8080/"
        },
        "outputId": "8d73292f-3b06-4d00-862b-5e53e831211d"
      },
      "execution_count": 18,
      "outputs": [
        {
          "output_type": "stream",
          "name": "stdout",
          "text": [
            "Enter numbers: 1 3 4 5 20 2 0 8\n",
            "Enter how many times to rotate: 3\n",
            "Rotated list: ['5', '20', '2', '0', '8', '1', '3', '4']\n"
          ]
        }
      ]
    },
    {
      "cell_type": "markdown",
      "source": [
        "**25.Find Common Elements:\n",
        "Find common elements between two lists.**\n"
      ],
      "metadata": {
        "id": "Q_C6ICJt0Y_k"
      }
    },
    {
      "cell_type": "code",
      "source": [
        "list1 = input(\"Enter first list: \").split()\n",
        "list2 = input(\"Enter second list: \").split()\n",
        "common = []\n",
        "i = 0\n",
        "\n",
        "while i < len(list1):\n",
        "    if list1[i] in list2 and list1[i] not in common:\n",
        "        common.append(list1[i])\n",
        "    i += 1\n",
        "\n",
        "print(\"Common elements:\", common)\n"
      ],
      "metadata": {
        "id": "2u4_bPQX0h90",
        "colab": {
          "base_uri": "https://localhost:8080/"
        },
        "outputId": "97ca9343-1c72-4593-e7ce-ab5e9c0975fc"
      },
      "execution_count": 19,
      "outputs": [
        {
          "output_type": "stream",
          "name": "stdout",
          "text": [
            "Enter first list: 1 7 8 2 0\n",
            "Enter second list: 2 4 6 7 8 22\n",
            "Common elements: ['7', '8', '2']\n"
          ]
        }
      ]
    },
    {
      "cell_type": "markdown",
      "source": [
        "**26. List Sorting without Built-in Methods:\n",
        "Sort a list without using Python's built-in sort().**\n"
      ],
      "metadata": {
        "id": "2I7RLJEz0cgP"
      }
    },
    {
      "cell_type": "code",
      "source": [
        "numbers = input(\"Enter numbers: \").split()\n",
        "i = 0\n",
        "\n",
        "while i < len(numbers):\n",
        "    j = 0\n",
        "    while j < len(numbers) - 1:\n",
        "        if int(numbers[j]) > int(numbers[j+1]):\n",
        "            temp = numbers[j]\n",
        "            numbers[j] = numbers[j+1]\n",
        "            numbers[j+1] = temp\n",
        "        j += 1\n",
        "    i += 1\n",
        "\n",
        "print(\"Sorted list:\", numbers)\n"
      ],
      "metadata": {
        "id": "FmL-TEKi0npS",
        "colab": {
          "base_uri": "https://localhost:8080/"
        },
        "outputId": "e007d61a-daa4-48b6-bd80-eef573704dd2"
      },
      "execution_count": 20,
      "outputs": [
        {
          "output_type": "stream",
          "name": "stdout",
          "text": [
            "Enter numbers: 1 3 5 7 3 2 9 7\n",
            "Sorted list: ['1', '2', '3', '3', '5', '7', '7', '9']\n"
          ]
        }
      ]
    },
    {
      "cell_type": "markdown",
      "source": [
        "**27.Pair with Sum:\n",
        "Find all pairs in a list whose sum equals a given number.**\n"
      ],
      "metadata": {
        "id": "oYjna0cZ0oVy"
      }
    },
    {
      "cell_type": "code",
      "source": [
        "numbers = input(\"Enter numbers: \").split()\n",
        "target = int(input(\"Enter target sum: \"))\n",
        "i = 0\n",
        "\n",
        "while i < len(numbers):\n",
        "    j = i + 1\n",
        "    while j < len(numbers):\n",
        "        a = int(numbers[i])\n",
        "        b = int(numbers[j])\n",
        "        if a + b == target:\n",
        "            print(\"Pair:\", a, b)\n",
        "        j += 1\n",
        "    i += 1\n"
      ],
      "metadata": {
        "id": "gBBQXhUN0t8J",
        "colab": {
          "base_uri": "https://localhost:8080/"
        },
        "outputId": "c69163d0-95c7-4cbb-c30f-7dc0d020293c"
      },
      "execution_count": 22,
      "outputs": [
        {
          "output_type": "stream",
          "name": "stdout",
          "text": [
            "Enter numbers: 7 3 1 0 5 \n",
            "Enter target sum: 10\n",
            "Pair: 7 3\n"
          ]
        }
      ]
    },
    {
      "cell_type": "markdown",
      "source": [
        "**28.Flatten Nested List:\n",
        "Flatten a nested list into a single list.**"
      ],
      "metadata": {
        "id": "M3kRm06f0u-Q"
      }
    },
    {
      "cell_type": "code",
      "source": [
        "nested = [[1, 2], [3, 4], [5, 6]]\n",
        "flat = []\n",
        "i = 0\n",
        "\n",
        "while i < len(nested):\n",
        "    j = 0\n",
        "    while j < len(nested[i]):\n",
        "        flat.append(nested[i][j])\n",
        "        j += 1\n",
        "    i += 1\n",
        "\n",
        "print(\"Flattened list:\", flat)\n"
      ],
      "metadata": {
        "id": "nX2JCosV00A9",
        "colab": {
          "base_uri": "https://localhost:8080/"
        },
        "outputId": "561d61ec-7d15-46a5-f696-1e55d716df54"
      },
      "execution_count": 23,
      "outputs": [
        {
          "output_type": "stream",
          "name": "stdout",
          "text": [
            "Flattened list: [1, 2, 3, 4, 5, 6]\n"
          ]
        }
      ]
    },
    {
      "cell_type": "markdown",
      "source": [
        "**29. Cumulative Sum:\n",
        "Create a new list where each element is the cumulative sum of the original list.**\n"
      ],
      "metadata": {
        "id": "AW8AWIpy00ep"
      }
    },
    {
      "cell_type": "code",
      "source": [
        "numbers = input(\"Enter numbers: \").split()\n",
        "i = 0\n",
        "total = 0\n",
        "cumulative = []\n",
        "\n",
        "while i < len(numbers):\n",
        "    total += int(numbers[i])\n",
        "    cumulative.append(total)\n",
        "    i += 1\n",
        "\n",
        "print(\"Cumulative sum list:\", cumulative)\n"
      ],
      "metadata": {
        "id": "2O89RKHb05gk",
        "colab": {
          "base_uri": "https://localhost:8080/"
        },
        "outputId": "49c0a525-b42c-4bfe-c6e5-7d3a028f1e88"
      },
      "execution_count": 24,
      "outputs": [
        {
          "output_type": "stream",
          "name": "stdout",
          "text": [
            "Enter numbers: 1 2 3 4 5\n",
            "Cumulative sum list: [1, 3, 6, 10, 15]\n"
          ]
        }
      ]
    },
    {
      "cell_type": "markdown",
      "source": [
        "**30.Second Largest Element:\n",
        "Find the second largest element in a list.**\n"
      ],
      "metadata": {
        "id": "HfzteMEM0563"
      }
    },
    {
      "cell_type": "code",
      "source": [
        "numbers = input(\"Enter numbers: \").split()\n",
        "i = 0\n",
        "max_val = int(numbers[0])\n",
        "\n",
        "while i < len(numbers):\n",
        "    if int(numbers[i]) > max_val:\n",
        "        max_val = int(numbers[i])\n",
        "    i += 1\n",
        "\n",
        "numbers.remove(str(max_val))\n",
        "second_max = int(numbers[0])\n",
        "i = 1\n",
        "\n",
        "while i < len(numbers):\n",
        "    if int(numbers[i]) > second_max:\n",
        "        second_max = int(numbers[i])\n",
        "    i += 1\n",
        "\n",
        "print(\"Second largest:\", second_max)\n"
      ],
      "metadata": {
        "id": "90HGEITp0-_d",
        "colab": {
          "base_uri": "https://localhost:8080/"
        },
        "outputId": "acc9ea3f-e566-46b5-c25f-2e48078d2ad4"
      },
      "execution_count": 25,
      "outputs": [
        {
          "output_type": "stream",
          "name": "stdout",
          "text": [
            "Enter numbers: 1 44 2 3 4 5\n",
            "Second largest: 5\n"
          ]
        }
      ]
    },
    {
      "cell_type": "markdown",
      "source": [
        "**Programs on Functions**\n"
      ],
      "metadata": {
        "id": "4DMbhbBv2NDy"
      }
    },
    {
      "cell_type": "markdown",
      "source": [
        "**1. Write a function to calculate the factorial of a number**\n"
      ],
      "metadata": {
        "id": "s2RQCRQK2ZhE"
      }
    },
    {
      "cell_type": "code",
      "source": [
        "def factorial(n):\n",
        "    result = 1\n",
        "    i = 1\n",
        "    while i <= n:\n",
        "        result *= i\n",
        "        i += 1\n",
        "    return result\n",
        "\n",
        "num = int(input(\"Enter a number: \"))\n",
        "print(\"Factorial:\", factorial(num))\n"
      ],
      "metadata": {
        "id": "Jg2MONeX2V9Z",
        "colab": {
          "base_uri": "https://localhost:8080/"
        },
        "outputId": "57814331-64e3-4d2f-e89a-102a3742ce90"
      },
      "execution_count": 26,
      "outputs": [
        {
          "output_type": "stream",
          "name": "stdout",
          "text": [
            "Enter a number: 3\n",
            "Factorial: 6\n"
          ]
        }
      ]
    },
    {
      "cell_type": "markdown",
      "source": [
        "**2. Create a function to check if a number is prime**\n"
      ],
      "metadata": {
        "id": "Szj50nvT2bq6"
      }
    },
    {
      "cell_type": "code",
      "source": [
        "def is_prime(n):\n",
        "    if n <= 1:\n",
        "        return False\n",
        "    i = 2\n",
        "    while i < n:\n",
        "        if n % i == 0:\n",
        "            return False\n",
        "        i += 1\n",
        "    return True\n",
        "\n",
        "num = int(input(\"Enter a number: \"))\n",
        "print(\"Prime:\", is_prime(num))\n"
      ],
      "metadata": {
        "id": "RhwKLpNe2dgM",
        "colab": {
          "base_uri": "https://localhost:8080/"
        },
        "outputId": "5cc0b258-e873-4c7f-9210-69fea3def971"
      },
      "execution_count": 27,
      "outputs": [
        {
          "output_type": "stream",
          "name": "stdout",
          "text": [
            "Enter a number: 7\n",
            "Prime: True\n"
          ]
        }
      ]
    },
    {
      "cell_type": "markdown",
      "source": [
        "**3. Write a function to find the greatest common divisor (GCD) of two numbers**\n"
      ],
      "metadata": {
        "id": "LhMsRdYb2fA3"
      }
    },
    {
      "cell_type": "code",
      "source": [
        "def find_gcd(a, b):\n",
        "    while b != 0:\n",
        "        temp = b\n",
        "        b = a % b\n",
        "        a = temp\n",
        "    return a\n",
        "\n",
        "x = int(input(\"Enter first number: \"))\n",
        "y = int(input(\"Enter second number: \"))\n",
        "print(\"GCD:\", find_gcd(x, y))\n"
      ],
      "metadata": {
        "id": "pKgOsAnV2hAH",
        "colab": {
          "base_uri": "https://localhost:8080/"
        },
        "outputId": "689843aa-3959-4eb9-a5de-f9bfa22c3659"
      },
      "execution_count": 28,
      "outputs": [
        {
          "output_type": "stream",
          "name": "stdout",
          "text": [
            "Enter first number: 2\n",
            "Enter second number: 4\n",
            "GCD: 2\n"
          ]
        }
      ]
    },
    {
      "cell_type": "markdown",
      "source": [
        "**4. Create a function to reverse a string**\n"
      ],
      "metadata": {
        "id": "otixWJdt2i4X"
      }
    },
    {
      "cell_type": "code",
      "source": [
        "def reverse_string(s):\n",
        "    result = \"\"\n",
        "    i = len(s) - 1\n",
        "    while i >= 0:\n",
        "        result += s[i]\n",
        "        i -= 1\n",
        "    return result\n",
        "\n",
        "text = input(\"Enter a string: \")\n",
        "print(\"Reversed:\", reverse_string(text))\n"
      ],
      "metadata": {
        "id": "BqSB4ERC2k7N",
        "colab": {
          "base_uri": "https://localhost:8080/"
        },
        "outputId": "4e4841ac-c44c-4a3d-c37f-642c53ae81be"
      },
      "execution_count": 29,
      "outputs": [
        {
          "output_type": "stream",
          "name": "stdout",
          "text": [
            "Enter a string: intern\n",
            "Reversed: nretni\n"
          ]
        }
      ]
    },
    {
      "cell_type": "markdown",
      "source": [
        "**5. Write a function to calculate the Fibonacci sequence up to n terms**\n"
      ],
      "metadata": {
        "id": "eTZhuEPl2nVG"
      }
    },
    {
      "cell_type": "code",
      "source": [
        "def fibonacci(n):\n",
        "    a = 0\n",
        "    b = 1\n",
        "    i = 0\n",
        "    while i < n:\n",
        "        print(a, end=\" \")\n",
        "        c = a + b\n",
        "        a = b\n",
        "        b = c\n",
        "        i += 1\n",
        "\n",
        "terms = int(input(\"Enter number of terms: \"))\n",
        "fibonacci(terms)\n"
      ],
      "metadata": {
        "id": "Xfnw4vVL2pdM",
        "colab": {
          "base_uri": "https://localhost:8080/"
        },
        "outputId": "3d82b3b2-903d-4b72-935c-2cf73335a380"
      },
      "execution_count": 30,
      "outputs": [
        {
          "output_type": "stream",
          "name": "stdout",
          "text": [
            "Enter number of terms: 9\n",
            "0 1 1 2 3 5 8 13 21 "
          ]
        }
      ]
    },
    {
      "cell_type": "markdown",
      "source": [
        "**6. Create a function to check if a string is a palindrome**\n"
      ],
      "metadata": {
        "id": "pBd-Dp4-2sXx"
      }
    },
    {
      "cell_type": "code",
      "source": [
        "def is_palindrome(s):\n",
        "    reversed_s = \"\"\n",
        "    i = len(s) - 1\n",
        "    while i >= 0:\n",
        "        reversed_s += s[i]\n",
        "        i -= 1\n",
        "    return s == reversed_s\n",
        "\n",
        "text = input(\"Enter a string: \")\n",
        "print(\"Palindrome:\", is_palindrome(text))\n"
      ],
      "metadata": {
        "id": "SZaxwl6u2r1E",
        "colab": {
          "base_uri": "https://localhost:8080/"
        },
        "outputId": "33ca3703-ce4d-47b9-e0a6-47c2eeef4316"
      },
      "execution_count": 33,
      "outputs": [
        {
          "output_type": "stream",
          "name": "stdout",
          "text": [
            "Enter a string: dad\n",
            "Palindrome: True\n"
          ]
        }
      ]
    },
    {
      "cell_type": "markdown",
      "source": [
        "**7. Write a function to convert Celsius to Fahrenheit and vice versa**\n"
      ],
      "metadata": {
        "id": "Dvpnm3mK2vnk"
      }
    },
    {
      "cell_type": "code",
      "source": [
        "def c_to_f(c):\n",
        "    return (c * 9 / 5) + 32\n",
        "\n",
        "def f_to_c(f):\n",
        "    return (f - 32) * 5 / 9\n",
        "\n",
        "choice = input(\"Convert (C)elsius or (F)ahrenheit? \")\n",
        "temp = float(input(\"Enter temperature: \"))\n",
        "\n",
        "if choice == \"C\":\n",
        "    print(\"Fahrenheit:\", c_to_f(temp))\n",
        "else:\n",
        "    print(\"Celsius:\", f_to_c(temp))\n"
      ],
      "metadata": {
        "id": "j2YBiWQ52xDk",
        "colab": {
          "base_uri": "https://localhost:8080/"
        },
        "outputId": "462be4a0-86ab-41ba-bf6a-8f6537c11e7d"
      },
      "execution_count": 34,
      "outputs": [
        {
          "output_type": "stream",
          "name": "stdout",
          "text": [
            "Convert (C)elsius or (F)ahrenheit? C\n",
            "Enter temperature: 96\n",
            "Fahrenheit: 204.8\n"
          ]
        }
      ]
    },
    {
      "cell_type": "markdown",
      "source": [
        "**8. Create a function to find the largest and smallest numbers in a list**\n"
      ],
      "metadata": {
        "id": "nXIvd1KK2yw4"
      }
    },
    {
      "cell_type": "code",
      "source": [
        "def min_max(lst):\n",
        "    minimum = int(lst[0])\n",
        "    maximum = int(lst[0])\n",
        "    i = 1\n",
        "    while i < len(lst):\n",
        "        num = int(lst[i])\n",
        "        if num > maximum:\n",
        "            maximum = num\n",
        "        if num < minimum:\n",
        "            minimum = num\n",
        "        i += 1\n",
        "    return minimum, maximum\n",
        "\n",
        "nums = input(\"Enter numbers: \").split()\n",
        "mn, mx = min_max(nums)\n",
        "print(\"Min:\", mn, \"Max:\", mx)\n"
      ],
      "metadata": {
        "id": "lyHiNtc020SS",
        "colab": {
          "base_uri": "https://localhost:8080/"
        },
        "outputId": "6da462f4-4e63-4c85-f548-44e2e93b1883"
      },
      "execution_count": 35,
      "outputs": [
        {
          "output_type": "stream",
          "name": "stdout",
          "text": [
            "Enter numbers: 1 2 3 4 5\n",
            "Min: 1 Max: 5\n"
          ]
        }
      ]
    },
    {
      "cell_type": "markdown",
      "source": [
        "**9. Write a function to count the frequency of each character in a string**\n"
      ],
      "metadata": {
        "id": "nxe6cYvv26bJ"
      }
    },
    {
      "cell_type": "code",
      "source": [
        "def char_frequency(s):\n",
        "    freq = {}\n",
        "    i = 0\n",
        "    while i < len(s):\n",
        "        ch = s[i]\n",
        "        if ch in freq:\n",
        "            freq[ch] += 1\n",
        "        else:\n",
        "            freq[ch] = 1\n",
        "        i += 1\n",
        "    return freq\n",
        "\n",
        "text = input(\"Enter a string: \")\n",
        "print(char_frequency(text))\n"
      ],
      "metadata": {
        "id": "MmyTcDn_29qs",
        "colab": {
          "base_uri": "https://localhost:8080/"
        },
        "outputId": "0be4733d-a8d6-4b2e-9744-e64cc8df6523"
      },
      "execution_count": 36,
      "outputs": [
        {
          "output_type": "stream",
          "name": "stdout",
          "text": [
            "Enter a string: cat\n",
            "{'c': 1, 'a': 1, 't': 1}\n"
          ]
        }
      ]
    },
    {
      "cell_type": "markdown",
      "source": [
        "**10. Create a function to calculate the sum of all even numbers in a list**\n"
      ],
      "metadata": {
        "id": "dh-09YIQ2_fk"
      }
    },
    {
      "cell_type": "code",
      "source": [
        "def sum_even(lst):\n",
        "    total = 0\n",
        "    i = 0\n",
        "    while i < len(lst):\n",
        "        num = int(lst[i])\n",
        "        if num % 2 == 0:\n",
        "            total += num\n",
        "        i += 1\n",
        "    return total\n",
        "\n",
        "nums = input(\"Enter numbers: \").split()\n",
        "print(\"Even sum:\", sum_even(nums))\n"
      ],
      "metadata": {
        "id": "JmSvabyU3BGt",
        "colab": {
          "base_uri": "https://localhost:8080/"
        },
        "outputId": "80516611-d449-4318-9488-16fd92219fa5"
      },
      "execution_count": 37,
      "outputs": [
        {
          "output_type": "stream",
          "name": "stdout",
          "text": [
            "Enter numbers: 2 3 4 5 19 10\n",
            "Even sum: 16\n"
          ]
        }
      ]
    },
    {
      "cell_type": "markdown",
      "source": [
        "**11. Write a function to find the area and perimeter of a rectangle**\n"
      ],
      "metadata": {
        "id": "WR7AyLl53Cua"
      }
    },
    {
      "cell_type": "code",
      "source": [
        "def area_perimeter(length, width):\n",
        "    area = length * width\n",
        "    perimeter = 2 * (length + width)\n",
        "    return area, perimeter\n",
        "\n",
        "l = int(input(\"Enter length: \"))\n",
        "w = int(input(\"Enter width: \"))\n",
        "a, p = area_perimeter(l, w)\n",
        "print(\"Area:\", a)\n",
        "print(\"Perimeter:\", p)\n"
      ],
      "metadata": {
        "id": "6fqNxbYU3EM2",
        "colab": {
          "base_uri": "https://localhost:8080/"
        },
        "outputId": "ad02dfbb-f582-46d2-b024-ff0bbf3270a5"
      },
      "execution_count": 38,
      "outputs": [
        {
          "output_type": "stream",
          "name": "stdout",
          "text": [
            "Enter length: 10\n",
            "Enter width: 4\n",
            "Area: 40\n",
            "Perimeter: 28\n"
          ]
        }
      ]
    },
    {
      "cell_type": "markdown",
      "source": [
        "**12. Create a function to calculate the compound interest for given inputs**\n"
      ],
      "metadata": {
        "id": "eV3rRhSB3FzE"
      }
    },
    {
      "cell_type": "code",
      "source": [
        "def compound_interest(p, r, t):\n",
        "    amount = p * (1 + r / 100) ** t\n",
        "    return amount\n",
        "\n",
        "p = float(input(\"Principal: \"))\n",
        "r = float(input(\"Rate: \"))\n",
        "t = float(input(\"Time: \"))\n",
        "print(\"Total amount:\", compound_interest(p, r, t))\n"
      ],
      "metadata": {
        "id": "ESWytVHu3JOV",
        "colab": {
          "base_uri": "https://localhost:8080/"
        },
        "outputId": "97c48402-a23e-455c-95e8-02767fef0a1f"
      },
      "execution_count": 39,
      "outputs": [
        {
          "output_type": "stream",
          "name": "stdout",
          "text": [
            "Principal: 8000\n",
            "Rate: 5\n",
            "Time: 1\n",
            "Total amount: 8400.0\n"
          ]
        }
      ]
    },
    {
      "cell_type": "markdown",
      "source": [
        "**13. Write a function to merge and sort two lists**\n"
      ],
      "metadata": {
        "id": "fl_-9TyY3Ks0"
      }
    },
    {
      "cell_type": "code",
      "source": [
        "def merge_sort(lst1, lst2):\n",
        "    merged = lst1 + lst2\n",
        "    i = 0\n",
        "    while i < len(merged):\n",
        "        j = 0\n",
        "        while j < len(merged) - 1:\n",
        "            if int(merged[j]) > int(merged[j+1]):\n",
        "                temp = merged[j]\n",
        "                merged[j] = merged[j+1]\n",
        "                merged[j+1] = temp\n",
        "            j += 1\n",
        "        i += 1\n",
        "    return merged\n",
        "\n",
        "a = input(\"Enter list 1: \").split()\n",
        "b = input(\"Enter list 2: \").split()\n",
        "print(\"Merged and sorted:\", merge_sort(a, b))\n"
      ],
      "metadata": {
        "id": "y4R3OTIB3MbJ",
        "colab": {
          "base_uri": "https://localhost:8080/"
        },
        "outputId": "d3d84e7f-9a1e-4ce0-caad-cd15651e07ab"
      },
      "execution_count": 40,
      "outputs": [
        {
          "output_type": "stream",
          "name": "stdout",
          "text": [
            "Enter list 1: 1 2 7 8 11\n",
            "Enter list 2: 3 5 1 6 8 90\n",
            "Merged and sorted: ['1', '1', '2', '3', '5', '6', '7', '8', '8', '11', '90']\n"
          ]
        }
      ]
    },
    {
      "cell_type": "markdown",
      "source": [
        "**14. Create a function to return the second largest number in a list**\n"
      ],
      "metadata": {
        "id": "XFy1OrNU3Oqt"
      }
    },
    {
      "cell_type": "code",
      "source": [
        "def second_largest(lst):\n",
        "    max_val = int(lst[0])\n",
        "    i = 1\n",
        "    while i < len(lst):\n",
        "        if int(lst[i]) > max_val:\n",
        "            max_val = int(lst[i])\n",
        "        i += 1\n",
        "    lst.remove(str(max_val))\n",
        "    second = int(lst[0])\n",
        "    i = 1\n",
        "    while i < len(lst):\n",
        "        if int(lst[i]) > second:\n",
        "            second = int(lst[i])\n",
        "        i += 1\n",
        "    return second\n",
        "\n",
        "nums = input(\"Enter numbers: \").split()\n",
        "print(\"Second largest:\", second_largest(nums))\n"
      ],
      "metadata": {
        "id": "jV8i0rFX3QPy",
        "colab": {
          "base_uri": "https://localhost:8080/"
        },
        "outputId": "42e14c0c-6e9b-4ab1-f388-80e8e794a077"
      },
      "execution_count": 41,
      "outputs": [
        {
          "output_type": "stream",
          "name": "stdout",
          "text": [
            "Enter numbers: 1 2 3 4 5\n",
            "Second largest: 4\n"
          ]
        }
      ]
    },
    {
      "cell_type": "markdown",
      "source": [
        "**15. Write a function to find the longest word in a sentence**\n"
      ],
      "metadata": {
        "id": "Jvvk8zGG3SL6"
      }
    },
    {
      "cell_type": "code",
      "source": [
        "def longest_word(sentence):\n",
        "    words = sentence.split()\n",
        "    longest = \"\"\n",
        "    i = 0\n",
        "    while i < len(words):\n",
        "        if len(words[i]) > len(longest):\n",
        "            longest = words[i]\n",
        "        i += 1\n",
        "    return longest\n",
        "\n",
        "s = input(\"Enter a sentence: \")\n",
        "print(\"Longest word:\", longest_word(s))\n"
      ],
      "metadata": {
        "id": "8zo5XmAX3W6d",
        "colab": {
          "base_uri": "https://localhost:8080/"
        },
        "outputId": "1cebfb2c-b39f-4e5c-c725-65623ae1f6c5"
      },
      "execution_count": 42,
      "outputs": [
        {
          "output_type": "stream",
          "name": "stdout",
          "text": [
            "Enter a sentence: This is my summer internship\n",
            "Longest word: internship\n"
          ]
        }
      ]
    },
    {
      "cell_type": "markdown",
      "source": [
        "**16. Create a function to check if a year is a leap year**\n"
      ],
      "metadata": {
        "id": "SYuUhrC73VY6"
      }
    },
    {
      "cell_type": "code",
      "source": [
        "def is_leap(year):\n",
        "    if year % 4 == 0:\n",
        "        if year % 100 != 0 or year % 400 == 0:\n",
        "            return True\n",
        "    return False\n",
        "\n",
        "y = int(input(\"Enter year: \"))\n",
        "print(\"Leap year:\", is_leap(y))\n"
      ],
      "metadata": {
        "id": "eKvJnEew3UFl",
        "colab": {
          "base_uri": "https://localhost:8080/"
        },
        "outputId": "563a7b94-b865-405e-ddec-e22bba399479"
      },
      "execution_count": 43,
      "outputs": [
        {
          "output_type": "stream",
          "name": "stdout",
          "text": [
            "Enter year: 2020\n",
            "Leap year: True\n"
          ]
        }
      ]
    },
    {
      "cell_type": "markdown",
      "source": [
        "**17. Write a function to calculate the sum of digits of a number**\n"
      ],
      "metadata": {
        "id": "_VBSw7C33it8"
      }
    },
    {
      "cell_type": "code",
      "source": [
        "def digit_sum(n):\n",
        "    total = 0\n",
        "    while n > 0:\n",
        "        total += n % 10\n",
        "        n = n // 10\n",
        "    return total\n",
        "\n",
        "num = int(input(\"Enter a number: \"))\n",
        "print(\"Digit sum:\", digit_sum(num))\n"
      ],
      "metadata": {
        "id": "UNRzFyPr3kjJ",
        "colab": {
          "base_uri": "https://localhost:8080/"
        },
        "outputId": "fd722887-f43b-4218-982e-076a2ba08e9f"
      },
      "execution_count": 44,
      "outputs": [
        {
          "output_type": "stream",
          "name": "stdout",
          "text": [
            "Enter a number: 12\n",
            "Digit sum: 3\n"
          ]
        }
      ]
    },
    {
      "cell_type": "markdown",
      "source": [
        "**18. Create a function to generate a list of random numbers**\n"
      ],
      "metadata": {
        "id": "F28pd8RY3mPi"
      }
    },
    {
      "cell_type": "code",
      "source": [
        "import random\n",
        "\n",
        "def generate_random(count):\n",
        "    numbers = []\n",
        "    i = 0\n",
        "    while i < count:\n",
        "        numbers.append(random.randint(1, 100))\n",
        "        i += 1\n",
        "    return numbers\n",
        "\n",
        "n = int(input(\"How many random numbers? \"))\n",
        "print(\"Random list:\", generate_random(n))\n"
      ],
      "metadata": {
        "id": "JgUcM5AG3nyg",
        "colab": {
          "base_uri": "https://localhost:8080/"
        },
        "outputId": "e286304b-e504-440b-d8d9-0d4eaf2d7d11"
      },
      "execution_count": 45,
      "outputs": [
        {
          "output_type": "stream",
          "name": "stdout",
          "text": [
            "How many random numbers? 50\n",
            "Random list: [37, 18, 28, 33, 20, 92, 9, 41, 98, 85, 44, 94, 86, 65, 14, 2, 21, 95, 68, 44, 95, 3, 72, 97, 41, 69, 45, 83, 83, 76, 56, 38, 21, 89, 34, 31, 84, 43, 47, 12, 47, 73, 84, 69, 46, 31, 13, 19, 24, 89]\n"
          ]
        }
      ]
    },
    {
      "cell_type": "markdown",
      "source": [
        "**19. Write a function to count vowels and consonants in a string**\n"
      ],
      "metadata": {
        "id": "utgJUfEL3pdZ"
      }
    },
    {
      "cell_type": "code",
      "source": [
        "def count_vowels_consonants(s):\n",
        "    vowels = 0\n",
        "    consonants = 0\n",
        "    i = 0\n",
        "    while i < len(s):\n",
        "        ch = s[i].lower()\n",
        "        if ch in 'aeiou':\n",
        "            vowels += 1\n",
        "        elif ch.isalpha():\n",
        "            consonants += 1\n",
        "        i += 1\n",
        "    return vowels, consonants\n",
        "\n",
        "text = input(\"Enter text: \")\n",
        "v, c = count_vowels_consonants(text)\n",
        "print(\"Vowels:\", v)\n",
        "print(\"Consonants:\", c)\n"
      ],
      "metadata": {
        "id": "_d_ojwhq3q6M",
        "colab": {
          "base_uri": "https://localhost:8080/"
        },
        "outputId": "90bf1fa2-bac1-4070-f5cf-23afff94c3a1"
      },
      "execution_count": 46,
      "outputs": [
        {
          "output_type": "stream",
          "name": "stdout",
          "text": [
            "Enter text: catemaran\n",
            "Vowels: 4\n",
            "Consonants: 5\n"
          ]
        }
      ]
    },
    {
      "cell_type": "markdown",
      "source": [
        "**20. Create a function to calculate the average of numbers in a list**\n"
      ],
      "metadata": {
        "id": "OMfp5O0m3tZ2"
      }
    },
    {
      "cell_type": "code",
      "source": [
        "def average(lst):\n",
        "    total = 0\n",
        "    i = 0\n",
        "    while i < len(lst):\n",
        "        total += int(lst[i])\n",
        "        i += 1\n",
        "    return total / len(lst)\n",
        "\n",
        "nums = input(\"Enter numbers: \").split()\n",
        "print(\"Average:\", average(nums))\n"
      ],
      "metadata": {
        "id": "xlgEpy8Q3vXl",
        "colab": {
          "base_uri": "https://localhost:8080/"
        },
        "outputId": "007dc4a7-0887-44c3-9678-189353a5b200"
      },
      "execution_count": 47,
      "outputs": [
        {
          "output_type": "stream",
          "name": "stdout",
          "text": [
            "Enter numbers: 1 2 3 4 5\n",
            "Average: 3.0\n"
          ]
        }
      ]
    },
    {
      "cell_type": "markdown",
      "source": [
        "**Programs on Modules**"
      ],
      "metadata": {
        "id": "rLbjFnl03zcB"
      }
    },
    {
      "cell_type": "markdown",
      "source": [
        "**21. Create a module for basic math operations and use it in a program**\n"
      ],
      "metadata": {
        "id": "kdJcZXjy3628"
      }
    },
    {
      "cell_type": "code",
      "source": [
        "import operator\n",
        "\n",
        "a = int(input(\"Enter first number: \"))\n",
        "b = int(input(\"Enter second number: \"))\n",
        "\n",
        "print(\"Add:\", operator.add(a, b))\n",
        "print(\"Subtract:\", operator.sub(a, b))\n",
        "print(\"Multiply:\", operator.mul(a, b))\n",
        "print(\"Divide:\", operator.truediv(a, b))\n"
      ],
      "metadata": {
        "id": "5XpACrTf38ys",
        "colab": {
          "base_uri": "https://localhost:8080/"
        },
        "outputId": "bcad5dfd-db7e-4a84-ef6b-75a17c4e81b4"
      },
      "execution_count": 49,
      "outputs": [
        {
          "output_type": "stream",
          "name": "stdout",
          "text": [
            "Enter first number: 1\n",
            "Enter second number: 2\n",
            "Add: 3\n",
            "Subtract: -1\n",
            "Multiply: 2\n",
            "Divide: 0.5\n"
          ]
        }
      ]
    },
    {
      "cell_type": "markdown",
      "source": [
        "**22. Create a module for string manipulation (reverse, palindrome, vowels)**\n"
      ],
      "metadata": {
        "id": "6x9hhUOS3-tI"
      }
    },
    {
      "cell_type": "code",
      "source": [
        "txt = input(\"Enter a string: \")\n",
        "\n",
        "# Reverse using loop (no slicing)\n",
        "reversed_str = \"\"\n",
        "i = len(txt) - 1\n",
        "while i >= 0:\n",
        "    reversed_str += txt[i]\n",
        "    i -= 1\n",
        "\n",
        "# Palindrome check\n",
        "is_palindrome = txt == reversed_str\n",
        "\n",
        "# Vowel count\n",
        "vowels = 0\n",
        "i = 0\n",
        "while i < len(txt):\n",
        "    if txt[i].lower() in 'aeiou':\n",
        "        vowels += 1\n",
        "    i += 1\n",
        "\n",
        "print(\"Reversed:\", reversed_str)\n",
        "print(\"Is palindrome:\", is_palindrome)\n",
        "print(\"Vowel count:\", vowels)\n",
        "\n"
      ],
      "metadata": {
        "id": "r9qCFab24Dyp",
        "colab": {
          "base_uri": "https://localhost:8080/"
        },
        "outputId": "493cdcba-bff2-461a-b972-0a30a65e0e96"
      },
      "execution_count": 50,
      "outputs": [
        {
          "output_type": "stream",
          "name": "stdout",
          "text": [
            "Enter a string: flowera\n",
            "Reversed: arewolf\n",
            "Is palindrome: False\n",
            "Vowel count: 3\n"
          ]
        }
      ]
    },
    {
      "cell_type": "markdown",
      "source": [
        "**23. Use the math module for trigonometric calculations**\n"
      ],
      "metadata": {
        "id": "PabFom0T4KSS"
      }
    },
    {
      "cell_type": "code",
      "source": [
        "import math\n",
        "\n",
        "angle = float(input(\"Enter angle in degrees: \"))\n",
        "radians = math.radians(angle)\n",
        "\n",
        "print(\"sin:\", math.sin(radians))\n",
        "print(\"cos:\", math.cos(radians))\n",
        "print(\"tan:\", math.tan(radians))\n"
      ],
      "metadata": {
        "id": "UJoJGR0L4MeQ",
        "colab": {
          "base_uri": "https://localhost:8080/"
        },
        "outputId": "f07ae33e-0845-4f9c-bbf9-a52228783030"
      },
      "execution_count": 51,
      "outputs": [
        {
          "output_type": "stream",
          "name": "stdout",
          "text": [
            "Enter angle in degrees: 90\n",
            "sin: 1.0\n",
            "cos: 6.123233995736766e-17\n",
            "tan: 1.633123935319537e+16\n"
          ]
        }
      ]
    },
    {
      "cell_type": "markdown",
      "source": [
        "**24. Generate a random password using random module**\n"
      ],
      "metadata": {
        "id": "Vh1kfRwd4P4N"
      }
    },
    {
      "cell_type": "code",
      "source": [
        "import random\n",
        "import string\n",
        "\n",
        "def generate_password(length):\n",
        "    characters = string.ascii_letters + string.digits + string.punctuation\n",
        "    password = \"\"\n",
        "    i = 0\n",
        "    while i < length:\n",
        "        password += random.choice(characters)\n",
        "        i += 1\n",
        "    return password\n",
        "\n",
        "n = int(input(\"Enter password length: \"))\n",
        "print(\"Generated password:\", generate_password(n))\n"
      ],
      "metadata": {
        "id": "zxjKMwC-4TLG",
        "colab": {
          "base_uri": "https://localhost:8080/"
        },
        "outputId": "f590af7d-5918-42b3-a2d7-d5f23350803d"
      },
      "execution_count": 52,
      "outputs": [
        {
          "output_type": "stream",
          "name": "stdout",
          "text": [
            "Enter password length: 5\n",
            "Generated password: Ji9U`\n"
          ]
        }
      ]
    },
    {
      "cell_type": "markdown",
      "source": [
        "**25. Module to calculate areas of shapes (circle, rectangle, triangle)**\n"
      ],
      "metadata": {
        "id": "OoH5fmne4Vqs"
      }
    },
    {
      "cell_type": "code",
      "source": [
        "def circle_area(r):\n",
        "    return 3.14 * r * r\n",
        "\n",
        "def rectangle_area(l, w):\n",
        "    return l * w\n",
        "\n",
        "def triangle_area(b, h):\n",
        "    return 0.5 * b * h\n",
        "\n",
        "print(\"Circle area:\", circle_area(5))\n",
        "print(\"Rectangle area:\", rectangle_area(4, 6))\n",
        "print(\"Triangle area:\", triangle_area(5, 3))\n",
        "\n"
      ],
      "metadata": {
        "id": "KMY7FlNc4XDQ",
        "colab": {
          "base_uri": "https://localhost:8080/"
        },
        "outputId": "b7597f9f-ee02-4b99-b1f4-bc9f96856e9c"
      },
      "execution_count": 56,
      "outputs": [
        {
          "output_type": "stream",
          "name": "stdout",
          "text": [
            "Circle area: 78.5\n",
            "Rectangle area: 24\n",
            "Triangle area: 7.5\n"
          ]
        }
      ]
    },
    {
      "cell_type": "markdown",
      "source": [
        "**26. Use the datetime module to show current date and time**\n"
      ],
      "metadata": {
        "id": "J9pAn4e64cGo"
      }
    },
    {
      "cell_type": "code",
      "source": [
        "import datetime\n",
        "\n",
        "now = datetime.datetime.now()\n",
        "print(\"Current date and time:\", now)\n"
      ],
      "metadata": {
        "id": "LmvB_dYo4dpX",
        "colab": {
          "base_uri": "https://localhost:8080/"
        },
        "outputId": "599f64fb-a2a1-4b08-fbd4-5417c86e0b5f"
      },
      "execution_count": 53,
      "outputs": [
        {
          "output_type": "stream",
          "name": "stdout",
          "text": [
            "Current date and time: 2025-06-20 19:06:29.847259\n"
          ]
        }
      ]
    },
    {
      "cell_type": "markdown",
      "source": [
        "**27. Use os module to list all files in a directory**\n"
      ],
      "metadata": {
        "id": "cxQ9R8iz4hwR"
      }
    },
    {
      "cell_type": "code",
      "source": [
        "import os\n",
        "\n",
        "path = input(\"Enter directory path: \")\n",
        "files = os.listdir(path)\n",
        "\n",
        "print(\"Files in directory:\")\n",
        "for f in files:\n",
        "    print(f)\n"
      ],
      "metadata": {
        "id": "tT07P26N4jMK",
        "colab": {
          "base_uri": "https://localhost:8080/"
        },
        "outputId": "6d853aba-81ff-483a-a5d8-30e83bea1f51"
      },
      "execution_count": 64,
      "outputs": [
        {
          "output_type": "stream",
          "name": "stdout",
          "text": [
            "Enter directory path: /content\n",
            "Files in directory:\n",
            ".config\n",
            "Sample_Employment_Agreement\n",
            "myfile.txt\n",
            "sample_data\n"
          ]
        }
      ]
    },
    {
      "cell_type": "markdown",
      "source": [
        "**28. Create a module to handle file operations (read, write, append)**\n"
      ],
      "metadata": {
        "id": "ZTbWniih4mIF"
      }
    },
    {
      "cell_type": "code",
      "source": [
        "filename = input(\"Enter file name (with .txt): \")\n",
        "\n",
        "# Write content to file\n",
        "content = input(\"Enter content to write: \")\n",
        "file = open(filename, \"w\")\n",
        "file.write(content + \"\\n\")\n",
        "file.close()\n",
        "\n",
        "# Append more content\n",
        "more = input(\"Enter content to append: \")\n",
        "file = open(filename, \"a\")\n",
        "file.write(more + \"\\n\")\n",
        "file.close()\n",
        "\n",
        "# Read and show file content\n",
        "file = open(filename, \"r\")\n",
        "print(\"File content:\\n\" + file.read())\n",
        "file.close()\n"
      ],
      "metadata": {
        "id": "XxXrmuUi4ngn",
        "colab": {
          "base_uri": "https://localhost:8080/"
        },
        "outputId": "ce118245-39d3-41b6-a803-9b8e8dd41afb"
      },
      "execution_count": 60,
      "outputs": [
        {
          "output_type": "stream",
          "name": "stdout",
          "text": [
            "Enter file name (with .txt): Sample_Employment_Agreement\n",
            "Enter content to write: asfffzc\n",
            "Enter content to append: asss\n",
            "File content:\n",
            "asfffzc\n",
            "asss\n",
            "\n"
          ]
        }
      ]
    },
    {
      "cell_type": "markdown",
      "source": [
        "**29. Use statistics module to calculate mean, median, mode**\n"
      ],
      "metadata": {
        "id": "NwUAjtAl4sGq"
      }
    },
    {
      "cell_type": "code",
      "source": [
        "import statistics\n",
        "\n",
        "data = list(map(int, input(\"Enter numbers: \").split()))\n",
        "print(\"Mean:\", statistics.mean(data))\n",
        "print(\"Median:\", statistics.median(data))\n",
        "print(\"Mode:\", statistics.mode(data))\n"
      ],
      "metadata": {
        "id": "Tth--ccd4t-X",
        "colab": {
          "base_uri": "https://localhost:8080/"
        },
        "outputId": "77237a10-ac8d-4e2e-d4ac-2dd10f2fa2b4"
      },
      "execution_count": 57,
      "outputs": [
        {
          "output_type": "stream",
          "name": "stdout",
          "text": [
            "Enter numbers: 9 19 9 4 5 6\n",
            "Mean: 8.666666666666666\n",
            "Median: 7.5\n",
            "Mode: 9\n"
          ]
        }
      ]
    },
    {
      "cell_type": "markdown",
      "source": [
        "**30. Create a module to convert units (length, weight, temperature)**\n"
      ],
      "metadata": {
        "id": "mcUCiReY4xkM"
      }
    },
    {
      "cell_type": "code",
      "source": [
        "def km_to_miles(km):\n",
        "    return km * 0.621371\n",
        "\n",
        "def kg_to_pounds(kg):\n",
        "    return kg * 2.20462\n",
        "\n",
        "def c_to_f(c):\n",
        "    return (c * 9 / 5) + 32\n",
        "\n",
        "# Get input from user\n",
        "km = float(input(\"Enter distance in kilometers: \"))\n",
        "kg = float(input(\"Enter weight in kilograms: \"))\n",
        "c = float(input(\"Enter temperature in Celsius: \"))\n",
        "\n",
        "# Convert and display results\n",
        "print(km, \"km in miles:\", km_to_miles(km))\n",
        "print(kg, \"kg in pounds:\", kg_to_pounds(kg))\n",
        "print(c, \"C in Fahrenheit:\", c_to_f(c))\n"
      ],
      "metadata": {
        "id": "M0LPGQXl4y9c",
        "colab": {
          "base_uri": "https://localhost:8080/"
        },
        "outputId": "8b1231eb-6d7b-45a2-85e7-167cbd2ecdac"
      },
      "execution_count": 61,
      "outputs": [
        {
          "output_type": "stream",
          "name": "stdout",
          "text": [
            "Enter distance in kilometers: 9\n",
            "Enter weight in kilograms: 7\n",
            "Enter temperature in Celsius: 45\n",
            "9.0 km in miles: 5.592339\n",
            "7.0 kg in pounds: 15.432339999999998\n",
            "45.0 C in Fahrenheit: 113.0\n"
          ]
        }
      ]
    }
  ]
}