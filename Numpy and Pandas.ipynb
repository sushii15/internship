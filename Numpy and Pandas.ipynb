{
  "cells": [
    {
      "cell_type": "markdown",
      "metadata": {
        "id": "cRtOr47RUQ8m"
      },
      "source": [
        "Numpy - Beginner\n"
      ]
    },
    {
      "cell_type": "markdown",
      "metadata": {
        "id": "XRMunM28UEVD"
      },
      "source": [
        " Create a 1D NumPy array with integers from 10 to 50"
      ]
    },
    {
      "cell_type": "code",
      "execution_count": null,
      "metadata": {
        "colab": {
          "base_uri": "https://localhost:8080/"
        },
        "id": "BVTXcq9hT-b3",
        "outputId": "8e47e7cc-94e9-4c41-da83-0dc1b11f0896"
      },
      "outputs": [
        {
          "name": "stdout",
          "output_type": "stream",
          "text": [
            "[10 11 12 13 14 15 16 17 18 19 20 21 22 23 24 25 26 27 28 29 30 31 32 33\n",
            " 34 35 36 37 38 39 40 41 42 43 44 45 46 47 48 49 50]\n"
          ]
        }
      ],
      "source": [
        "import numpy as np\n",
        "arr = np.arange(10, 51)\n",
        "print(arr)"
      ]
    },
    {
      "cell_type": "markdown",
      "metadata": {
        "id": "NXhI_BRQUG4I"
      },
      "source": [
        "Generate a 3x3 array of random numbers between 0 and 1.\n"
      ]
    },
    {
      "cell_type": "code",
      "execution_count": null,
      "metadata": {
        "colab": {
          "base_uri": "https://localhost:8080/"
        },
        "id": "IYuUKMZUUJHi",
        "outputId": "1e50a086-50b2-4c2a-b69c-9b8015e92e93"
      },
      "outputs": [
        {
          "name": "stdout",
          "output_type": "stream",
          "text": [
            "[[0.03137348 0.45641437 0.25634026]\n",
            " [0.97779015 0.64369358 0.3619061 ]\n",
            " [0.82339083 0.87309358 0.76322146]]\n"
          ]
        }
      ],
      "source": [
        "rand_arr = np.random.rand(3, 3)\n",
        "print(rand_arr)\n"
      ]
    },
    {
      "cell_type": "markdown",
      "metadata": {
        "id": "8yQ8fAlBUJcn"
      },
      "source": [
        "Find the mean, median, and standard deviation of the following array:\n",
        "arr = np.array([1, 2, 3, 4, 5, 6]).\n"
      ]
    },
    {
      "cell_type": "code",
      "execution_count": null,
      "metadata": {
        "colab": {
          "base_uri": "https://localhost:8080/"
        },
        "id": "e6gfcxyBUMd6",
        "outputId": "5d9c262a-e92f-4d03-8266-3333e20b7c00"
      },
      "outputs": [
        {
          "name": "stdout",
          "output_type": "stream",
          "text": [
            "Mean: 3.5\n",
            "Median: 3.5\n",
            "Standard Deviation: 1.707825127659933\n"
          ]
        }
      ],
      "source": [
        "arr = np.array([1, 2, 3, 4, 5, 6])\n",
        "\n",
        "mean_val = np.mean(arr)\n",
        "median_val = np.median(arr)\n",
        "std_val = np.std(arr)\n",
        "\n",
        "print(\"Mean:\", mean_val)\n",
        "print(\"Median:\", median_val)\n",
        "print(\"Standard Deviation:\", std_val)\n"
      ]
    },
    {
      "cell_type": "markdown",
      "metadata": {
        "id": "Jp9BZMQyUNSs"
      },
      "source": [
        "Replace all even numbers in a NumPy array with -1.\n",
        "Example: arr = np.array([1, 2, 3, 4, 5, 6])\n"
      ]
    },
    {
      "cell_type": "code",
      "execution_count": null,
      "metadata": {
        "colab": {
          "base_uri": "https://localhost:8080/"
        },
        "id": "dBo9wAvOUM5j",
        "outputId": "9fb1892d-6018-45b9-f588-cee27ef2068b"
      },
      "outputs": [
        {
          "name": "stdout",
          "output_type": "stream",
          "text": [
            "[ 1 -1  3 -1  5 -1]\n"
          ]
        }
      ],
      "source": [
        "arr2 = np.array([1, 2, 3, 4, 5, 6])\n",
        "arr2[arr2 % 2 == 0] = -1\n",
        "print(arr2)\n"
      ]
    },
    {
      "cell_type": "markdown",
      "metadata": {
        "id": "fj15bZYTY9Jw"
      },
      "source": [
        "NumPy - Intermediate"
      ]
    },
    {
      "cell_type": "markdown",
      "metadata": {
        "id": "pVh-kMVIZAeF"
      },
      "source": [
        "Create a 4x4 matrix with random integers between 1 and 100 and replace all elements greater than 50 with 50.\n"
      ]
    },
    {
      "cell_type": "code",
      "execution_count": 5,
      "metadata": {
        "colab": {
          "base_uri": "https://localhost:8080/"
        },
        "id": "l9Sl6U2XZDa1",
        "outputId": "891c2d60-1dcc-4f34-f7a8-e1781716f844"
      },
      "outputs": [
        {
          "name": "stdout",
          "output_type": "stream",
          "text": [
            "[[44 50 23 50]\n",
            " [ 3 36 50 33]\n",
            " [50 20 50 13]\n",
            " [50  1 32 50]]\n"
          ]
        }
      ],
      "source": [
        "import numpy as np\n",
        "arr = np.random.randint(1, 101, (4, 4))\n",
        "arr[arr > 50] = 50\n",
        "print(arr)\n",
        "\n"
      ]
    },
    {
      "cell_type": "markdown",
      "metadata": {
        "id": "ti3MuTWaZD3M"
      },
      "source": [
        "Flatten a 2D array into a 1D array using both ravel() and flatten() methods. Explain the difference.\n"
      ]
    },
    {
      "cell_type": "code",
      "execution_count": null,
      "metadata": {
        "colab": {
          "base_uri": "https://localhost:8080/"
        },
        "id": "8CZjN921ZF4H",
        "outputId": "920e320e-75de-495a-c6ab-0ae6353404f0"
      },
      "outputs": [
        {
          "name": "stdout",
          "output_type": "stream",
          "text": [
            "[1 5 3 8]\n"
          ]
        }
      ],
      "source": [
        "arr = np.array([[1,5],[3,8]])\n",
        "arr_ravel = arr.ravel()\n",
        "print(arr_ravel)\n",
        "#linked to original"
      ]
    },
    {
      "cell_type": "code",
      "execution_count": null,
      "metadata": {
        "colab": {
          "base_uri": "https://localhost:8080/"
        },
        "id": "Lx_P4SazZuMa",
        "outputId": "eef9e57c-ed12-4080-ea17-d28469e1f02d"
      },
      "outputs": [
        {
          "name": "stdout",
          "output_type": "stream",
          "text": [
            "[1 5 3 8]\n"
          ]
        }
      ],
      "source": [
        "arr = np.array([[1,5],[3,8]])\n",
        "arr_flatten = arr.flatten()\n",
        "print(arr_flatten)\n",
        "#saves a copy"
      ]
    },
    {
      "cell_type": "markdown",
      "metadata": {
        "id": "QqlXJPjMZGrG"
      },
      "source": [
        "Compute the dot product of two matrices:\n",
        "A = np.array([[1, 2], [3, 4]])\n",
        "B = np.array([[5, 6], [7, 8]])\n"
      ]
    },
    {
      "cell_type": "code",
      "execution_count": null,
      "metadata": {
        "colab": {
          "base_uri": "https://localhost:8080/"
        },
        "id": "sgH8I18qZKFo",
        "outputId": "d17bd189-ee2e-4d5a-8f26-f61e9e330a0c"
      },
      "outputs": [
        {
          "name": "stdout",
          "output_type": "stream",
          "text": [
            "[[19 22]\n",
            " [43 50]]\n"
          ]
        }
      ],
      "source": [
        "A = np.array([[1, 2], [3, 4]])\n",
        "B = np.array([[5, 6], [7, 8]])\n",
        "\n",
        "dot_product = np.dot(A, B)\n",
        "print(dot_product)\n"
      ]
    },
    {
      "cell_type": "markdown",
      "metadata": {
        "id": "Zl-Z94SOZLKI"
      },
      "source": [
        "Extract the unique elements from the following array and count their occurrences:\n",
        "arr = np.array([1, 2, 2, 3, 4, 4, 4, 5])\n"
      ]
    },
    {
      "cell_type": "code",
      "execution_count": 7,
      "metadata": {
        "colab": {
          "base_uri": "https://localhost:8080/"
        },
        "id": "IIBJ8tfxZOOf",
        "outputId": "11725890-0eb0-4059-d895-126ecdb1ef50"
      },
      "outputs": [
        {
          "name": "stdout",
          "output_type": "stream",
          "text": [
            "[1 2 3 4 5]\n",
            "[1 2 1 3 1]\n"
          ]
        }
      ],
      "source": [
        "arr = np.array([1, 2, 2, 3, 4, 4, 4, 5])\n",
        "unique , counts = np.unique(arr, return_counts=True)\n",
        "print(unique)\n",
        "print(counts)\n",
        "\n",
        "#"
      ]
    },
    {
      "cell_type": "markdown",
      "metadata": {
        "id": "wOby1lmPd97r"
      },
      "source": [
        "NumPy - Advanced\n"
      ]
    },
    {
      "cell_type": "markdown",
      "metadata": {
        "id": "-bWrXDlmeBd7"
      },
      "source": [
        "Implement matrix multiplication manually (without using np.dot or @).\n"
      ]
    },
    {
      "cell_type": "code",
      "execution_count": 1,
      "metadata": {
        "colab": {
          "base_uri": "https://localhost:8080/"
        },
        "id": "bScnQ5TPeCNW",
        "outputId": "48e3ee37-298d-412c-ac3d-6e24603a57ca"
      },
      "outputs": [
        {
          "name": "stdout",
          "output_type": "stream",
          "text": [
            "[[100.  80.]\n",
            " [ 26.  18.]]\n"
          ]
        }
      ],
      "source": [
        "import numpy as np\n",
        "\n",
        "A = np.array([[10, 20], [3, 4]])\n",
        "B = np.array([[6, 2], [2, 3]])\n",
        "\n",
        "# Manually compute A x B\n",
        "result = np.zeros((A.shape[0], B.shape[1]))\n",
        "\n",
        "for i in range(A.shape[0]):\n",
        "    for j in range(B.shape[1]):\n",
        "        for k in range(A.shape[1]):\n",
        "            result[i][j] += A[i][k] * B[k][j]\n",
        "\n",
        "print(result)\n",
        "\n",
        "## recheck \n"
      ]
    },
    {
      "cell_type": "markdown",
      "metadata": {
        "id": "pJ4OagVieClz"
      },
      "source": [
        "Create a 3D array of shape (3, 4, 5) filled with random integers. Normalize the array values to the range 0-1.\n"
      ]
    },
    {
      "cell_type": "code",
      "execution_count": null,
      "metadata": {
        "colab": {
          "base_uri": "https://localhost:8080/"
        },
        "id": "hIm7o_jkeFm0",
        "outputId": "68a903a6-9691-4739-dce2-18860a60303d"
      },
      "outputs": [
        {
          "name": "stdout",
          "output_type": "stream",
          "text": [
            "Original array:\n",
            " [[[ 6 61 78 81 22]\n",
            "  [83 66 58 15 83]\n",
            "  [28 47 71 58 65]\n",
            "  [95 86 87 59 40]]\n",
            "\n",
            " [[32 46 21 43 81]\n",
            "  [69 73  3 71 36]\n",
            "  [60 67 26 81 41]\n",
            "  [60 47 78 50 69]]\n",
            "\n",
            " [[51 10 21 32 65]\n",
            "  [64  6 94 68 10]\n",
            "  [39 69 92 36 61]\n",
            "  [54 41 76 17 83]]]\n",
            "Normalized array:\n",
            " [[[0.0326087  0.63043478 0.81521739 0.84782609 0.20652174]\n",
            "  [0.86956522 0.68478261 0.59782609 0.13043478 0.86956522]\n",
            "  [0.27173913 0.47826087 0.73913043 0.59782609 0.67391304]\n",
            "  [1.         0.90217391 0.91304348 0.60869565 0.40217391]]\n",
            "\n",
            " [[0.31521739 0.4673913  0.19565217 0.43478261 0.84782609]\n",
            "  [0.7173913  0.76086957 0.         0.73913043 0.35869565]\n",
            "  [0.61956522 0.69565217 0.25       0.84782609 0.41304348]\n",
            "  [0.61956522 0.47826087 0.81521739 0.51086957 0.7173913 ]]\n",
            "\n",
            " [[0.52173913 0.07608696 0.19565217 0.31521739 0.67391304]\n",
            "  [0.66304348 0.0326087  0.98913043 0.70652174 0.07608696]\n",
            "  [0.39130435 0.7173913  0.9673913  0.35869565 0.63043478]\n",
            "  [0.55434783 0.41304348 0.79347826 0.15217391 0.86956522]]]\n"
          ]
        }
      ],
      "source": [
        "arr3d = np.random.randint(0, 100, (3, 4, 5))\n",
        "normalized = (arr3d - arr3d.min()) / (arr3d.max() - arr3d.min())\n",
        "\n",
        "print(\"Original array:\\n\", arr3d)\n",
        "print(\"Normalized array:\\n\", normalized)\n",
        "# normalization formula = (x−min)/(max−min) (always between 0 and 1)\n"
      ]
    },
    {
      "cell_type": "markdown",
      "metadata": {
        "id": "cLp3P2pVeGFq"
      },
      "source": [
        "Write a function to calculate the inverse of a matrix (handle errors if the matrix is non-invertible).\n"
      ]
    },
    {
      "cell_type": "code",
      "execution_count": null,
      "metadata": {
        "colab": {
          "base_uri": "https://localhost:8080/"
        },
        "id": "bmgfWTcLeIIL",
        "outputId": "a62cb6a8-c803-4022-bbe9-3f3d7db8d6dd"
      },
      "outputs": [
        {
          "name": "stdout",
          "output_type": "stream",
          "text": [
            "[[-2.   1. ]\n",
            " [ 1.5 -0.5]]\n"
          ]
        }
      ],
      "source": [
        "def inverse_matrix(mat):\n",
        "    try:\n",
        "        inv = np.linalg.inv(mat)\n",
        "        return inv\n",
        "    except np.linalg.LinAlgError:\n",
        "        return \"Matrix is not invertible.\"\n",
        "\n",
        "# Example\n",
        "mat = np.array([[1, 2], [3, 4]])\n",
        "print(inverse_matrix(mat))\n",
        "\n",
        "#try and except , tries for all inputs except said condition.\n"
      ]
    },
    {
      "cell_type": "markdown",
      "metadata": {
        "id": "n6YExESheJXX"
      },
      "source": [
        "Simulate a Markov chain with a given transition matrix.\n"
      ]
    },
    {
      "cell_type": "code",
      "execution_count": 2,
      "metadata": {
        "id": "pHnjW9LfePPc"
      },
      "outputs": [
        {
          "name": "stdout",
          "output_type": "stream",
          "text": [
            "State sequence: [0, np.int64(0), np.int64(0), np.int64(0), np.int64(0), np.int64(1), np.int64(1), np.int64(0), np.int64(1), np.int64(1), np.int64(0)]\n"
          ]
        }
      ],
      "source": [
        "import numpy as np  # To use random choice\n",
        "\n",
        "# Step 1: Define the transition matrix\n",
        "# Row 0 = Sunny, Row 1 = Rainy\n",
        "# [Sunny to Sunny, Sunny to Rainy]\n",
        "# [Rainy to Sunny, Rainy to Rainy]\n",
        "transition_matrix = [\n",
        "    [0.8, 0.2],  # If it's Sunny today\n",
        "    [0.4, 0.6]   # If it's Rainy today\n",
        "]\n",
        "\n",
        "# Step 2: Choose a starting state (0 = Sunny, 1 = Rainy)\n",
        "current_state = 0  # Let's say we start with Sunny\n",
        "\n",
        "# Step 3: Decide how many steps to simulate\n",
        "steps = 10\n",
        "\n",
        "# Step 4: Store the result\n",
        "states = [current_state]\n",
        "\n",
        "# Step 5: Simulate the chain\n",
        "for _ in range(steps):\n",
        "    # Get the probabilities for the current state\n",
        "    probs = transition_matrix[current_state]\n",
        "\n",
        "    # Choose the next state: 0 or 1\n",
        "    next_state = np.random.choice([0, 1], p=probs)\n",
        "\n",
        "    # Add it to the list\n",
        "    states.append(next_state)\n",
        "\n",
        "    # Move to next state\n",
        "    current_state = next_state\n",
        "\n",
        "# Step 6: Print the state sequence\n",
        "print(\"State sequence:\", states)\n",
        "\n",
        "\n",
        "#understand\n"
      ]
    },
    {
      "cell_type": "markdown",
      "metadata": {
        "id": "0SG_hIVtxwpS"
      },
      "source": [
        "Pandas - Beginner\n"
      ]
    },
    {
      "cell_type": "markdown",
      "metadata": {
        "id": "OpuyOmJjy586"
      },
      "source": [
        "Create a DataFrame from a dictionary:\n",
        "\n",
        "data = {'Name': ['Alice', 'Bob', 'Charlie'], 'Age': [25, 30, 35], 'City': ['New York', 'Los Angeles', 'Chicago']}\n",
        "\n",
        "\n",
        "1.Select all rows where \"Age\" is greater than 28.\n",
        "\n",
        "2.Add a new column \"Salary\" with values [50000, 60000, 70000] to the DataFrame created above.\n",
        "\n",
        "3.Rename the column \"City\" to \"Location\".\n"
      ]
    },
    {
      "cell_type": "code",
      "execution_count": 5,
      "metadata": {
        "colab": {
          "base_uri": "https://localhost:8080/"
        },
        "id": "dd16mUYVxzEv",
        "outputId": "f79c6b05-8d72-414f-e61d-00ed76ba81ae"
      },
      "outputs": [
        {
          "name": "stderr",
          "output_type": "stream",
          "text": [
            "\n",
            "[notice] A new release of pip is available: 24.3.1 -> 25.1.1\n",
            "[notice] To update, run: C:\\Users\\sasha\\AppData\\Local\\Microsoft\\WindowsApps\\PythonSoftwareFoundation.Python.3.11_qbz5n2kfra8p0\\python.exe -m pip install --upgrade pip\n",
            "ERROR: Invalid requirement: '#': Expected package name at the start of dependency specifier\n",
            "    #\n",
            "    ^\n"
          ]
        },
        {
          "ename": "ModuleNotFoundError",
          "evalue": "No module named 'pandas'",
          "output_type": "error",
          "traceback": [
            "\u001b[1;31m---------------------------------------------------------------------------\u001b[0m",
            "\u001b[1;31mModuleNotFoundError\u001b[0m                       Traceback (most recent call last)",
            "Cell \u001b[1;32mIn[5], line 2\u001b[0m\n\u001b[0;32m      1\u001b[0m get_ipython()\u001b[38;5;241m.\u001b[39msystem(\u001b[38;5;124m'\u001b[39m\u001b[38;5;124mpip install pandas  # Install pandas if not already installed\u001b[39m\u001b[38;5;124m'\u001b[39m)\n\u001b[1;32m----> 2\u001b[0m \u001b[38;5;28;01mimport\u001b[39;00m \u001b[38;5;21;01mpandas\u001b[39;00m \u001b[38;5;28;01mas\u001b[39;00m \u001b[38;5;21;01mpd\u001b[39;00m  \u001b[38;5;66;03m# pandas helps with table-like data\u001b[39;00m\n\u001b[0;32m      5\u001b[0m data \u001b[38;5;241m=\u001b[39m {\n\u001b[0;32m      6\u001b[0m     \u001b[38;5;124m'\u001b[39m\u001b[38;5;124mName\u001b[39m\u001b[38;5;124m'\u001b[39m: [\u001b[38;5;124m'\u001b[39m\u001b[38;5;124mAlice\u001b[39m\u001b[38;5;124m'\u001b[39m, \u001b[38;5;124m'\u001b[39m\u001b[38;5;124mBob\u001b[39m\u001b[38;5;124m'\u001b[39m, \u001b[38;5;124m'\u001b[39m\u001b[38;5;124mCharlie\u001b[39m\u001b[38;5;124m'\u001b[39m],\n\u001b[0;32m      7\u001b[0m     \u001b[38;5;124m'\u001b[39m\u001b[38;5;124mAge\u001b[39m\u001b[38;5;124m'\u001b[39m: [\u001b[38;5;241m25\u001b[39m, \u001b[38;5;241m30\u001b[39m, \u001b[38;5;241m35\u001b[39m],\n\u001b[0;32m      8\u001b[0m     \u001b[38;5;124m'\u001b[39m\u001b[38;5;124mCity\u001b[39m\u001b[38;5;124m'\u001b[39m: [\u001b[38;5;124m'\u001b[39m\u001b[38;5;124mNew York\u001b[39m\u001b[38;5;124m'\u001b[39m, \u001b[38;5;124m'\u001b[39m\u001b[38;5;124mLos Angeles\u001b[39m\u001b[38;5;124m'\u001b[39m, \u001b[38;5;124m'\u001b[39m\u001b[38;5;124mChicago\u001b[39m\u001b[38;5;124m'\u001b[39m]\n\u001b[0;32m      9\u001b[0m }\n\u001b[0;32m     12\u001b[0m df \u001b[38;5;241m=\u001b[39m pd\u001b[38;5;241m.\u001b[39mDataFrame(data)\n",
            "\u001b[1;31mModuleNotFoundError\u001b[0m: No module named 'pandas'"
          ]
        }
      ],
      "source": [
        "!pip install pandas  # Install pandas if not already installed\n",
        "import pandas as pd  # pandas helps with table-like data\n",
        "\n",
        "\n",
        "data = {\n",
        "    'Name': ['Alice', 'Bob', 'Charlie'],\n",
        "    'Age': [25, 30, 35],\n",
        "    'City': ['New York', 'Los Angeles', 'Chicago']\n",
        "}\n",
        "\n",
        "\n",
        "df = pd.DataFrame(data)\n",
        "print(df)\n"
      ]
    },
    {
      "cell_type": "code",
      "execution_count": 6,
      "metadata": {},
      "outputs": [
        {
          "ename": "ModuleNotFoundError",
          "evalue": "No module named 'pandas'",
          "output_type": "error",
          "traceback": [
            "\u001b[1;31m---------------------------------------------------------------------------\u001b[0m",
            "\u001b[1;31mModuleNotFoundError\u001b[0m                       Traceback (most recent call last)",
            "Cell \u001b[1;32mIn[6], line 1\u001b[0m\n\u001b[1;32m----> 1\u001b[0m \u001b[38;5;28;01mimport\u001b[39;00m \u001b[38;5;21;01mpandas\u001b[39;00m \u001b[38;5;28;01mas\u001b[39;00m \u001b[38;5;21;01mpd\u001b[39;00m  \u001b[38;5;66;03m# pandas helps with table-like data\u001b[39;00m\n\u001b[0;32m      4\u001b[0m data \u001b[38;5;241m=\u001b[39m {\n\u001b[0;32m      5\u001b[0m     \u001b[38;5;124m'\u001b[39m\u001b[38;5;124mName\u001b[39m\u001b[38;5;124m'\u001b[39m: [\u001b[38;5;124m'\u001b[39m\u001b[38;5;124mAlice\u001b[39m\u001b[38;5;124m'\u001b[39m, \u001b[38;5;124m'\u001b[39m\u001b[38;5;124mBob\u001b[39m\u001b[38;5;124m'\u001b[39m, \u001b[38;5;124m'\u001b[39m\u001b[38;5;124mCharlie\u001b[39m\u001b[38;5;124m'\u001b[39m],\n\u001b[0;32m      6\u001b[0m     \u001b[38;5;124m'\u001b[39m\u001b[38;5;124mAge\u001b[39m\u001b[38;5;124m'\u001b[39m: [\u001b[38;5;241m25\u001b[39m, \u001b[38;5;241m30\u001b[39m, \u001b[38;5;241m35\u001b[39m],\n\u001b[0;32m      7\u001b[0m     \u001b[38;5;124m'\u001b[39m\u001b[38;5;124mCity\u001b[39m\u001b[38;5;124m'\u001b[39m: [\u001b[38;5;124m'\u001b[39m\u001b[38;5;124mNew York\u001b[39m\u001b[38;5;124m'\u001b[39m, \u001b[38;5;124m'\u001b[39m\u001b[38;5;124mLos Angeles\u001b[39m\u001b[38;5;124m'\u001b[39m, \u001b[38;5;124m'\u001b[39m\u001b[38;5;124mChicago\u001b[39m\u001b[38;5;124m'\u001b[39m]\n\u001b[0;32m      8\u001b[0m }\n\u001b[0;32m     11\u001b[0m df \u001b[38;5;241m=\u001b[39m pd\u001b[38;5;241m.\u001b[39mDataFrame(data)\n",
            "\u001b[1;31mModuleNotFoundError\u001b[0m: No module named 'pandas'"
          ]
        }
      ],
      "source": [
        "import pandas as pd  # pandas helps with table-like data\n",
        "\n",
        "\n",
        "data = {\n",
        "    'Name': ['Alice', 'Bob', 'Charlie'],\n",
        "    'Age': [25, 30, 35],\n",
        "    'City': ['New York', 'Los Angeles', 'Chicago']\n",
        "}\n",
        "\n",
        "\n",
        "df = pd.DataFrame(data)\n",
        "print(df)\n"
      ]
    },
    {
      "cell_type": "code",
      "execution_count": 10,
      "metadata": {
        "colab": {
          "base_uri": "https://localhost:8080/"
        },
        "id": "mxRcY671x8PC",
        "outputId": "f873c858-831e-4db0-efd2-49580fc2736f"
      },
      "outputs": [
        {
          "name": "stdout",
          "output_type": "stream",
          "text": [
            "      Name  Age         City\n",
            "1      Bob   30  Los Angeles\n",
            "2  Charlie   35      Chicago\n"
          ]
        }
      ],
      "source": [
        "filtered_df = df[df['Age'] > 28]\n",
        "print(filtered_df)\n"
      ]
    },
    {
      "cell_type": "code",
      "execution_count": 11,
      "metadata": {
        "colab": {
          "base_uri": "https://localhost:8080/"
        },
        "id": "V8bGQblmx8Lq",
        "outputId": "7bc28bff-c807-49e9-bd7c-cc43dc18972e"
      },
      "outputs": [
        {
          "name": "stdout",
          "output_type": "stream",
          "text": [
            "      Name  Age         City  Salary\n",
            "0    Alice   25     New York   50000\n",
            "1      Bob   30  Los Angeles   60000\n",
            "2  Charlie   35      Chicago   70000\n"
          ]
        }
      ],
      "source": [
        "df['Salary'] = [50000, 60000, 70000]\n",
        "print(df)\n"
      ]
    },
    {
      "cell_type": "code",
      "execution_count": 14,
      "metadata": {
        "colab": {
          "base_uri": "https://localhost:8080/"
        },
        "id": "gYEOYlCxyrFX",
        "outputId": "2d7a6fa5-75ba-4bb4-be91-ec27827daf3a"
      },
      "outputs": [
        {
          "name": "stdout",
          "output_type": "stream",
          "text": [
            "      Name  Age     Location  Salary\n",
            "0    Alice   25     New York   50000\n",
            "1      Bob   30  Los Angeles   60000\n",
            "2  Charlie   35      Chicago   70000\n"
          ]
        }
      ],
      "source": [
        "df = df.rename(columns={'City':'Location'})\n",
        "print(df)"
      ]
    },
    {
      "cell_type": "markdown",
      "metadata": {
        "id": "mUM33NWqzLMd"
      },
      "source": [
        "Pandas - Intermediate"
      ]
    },
    {
      "cell_type": "markdown",
      "metadata": {
        "id": "KzEqjzth3kpN"
      },
      "source": [
        "Load a CSV file (e.g., sample.csv) into a DataFrame and display the first 10 rows.\n",
        "\n",
        "1.Group the DataFrame by a specific column (e.g., \"City\") and calculate the mean of another column (e.g., \"Salary\").\n",
        "\n",
        "2.Handle missing data in a DataFrame by:\n",
        "\n",
        "3.Replacing NaN values with the mean of the column.\n",
        "Dropping rows with NaN values.\n",
        "\n",
        "4.Sort the DataFrame by multiple columns, e.g., by \"Age\" (ascending) and \"Salary\" (descending).\n"
      ]
    },
    {
      "cell_type": "code",
      "execution_count": null,
      "metadata": {
        "colab": {
          "base_uri": "https://localhost:8080/"
        },
        "id": "qqdnUBdozwpo",
        "outputId": "c57ebcdc-ba93-4f73-bb35-356f6f3f6607"
      },
      "outputs": [
        {
          "name": "stdout",
          "output_type": "stream",
          "text": [
            "      Name   Age         City   Salary\n",
            "0    Alice  25.0     New York  50000.0\n",
            "1      Bob  30.0  Los Angeles  60000.0\n",
            "2  Charlie  35.0      Chicago  70000.0\n",
            "3    David  28.0     New York      NaN\n",
            "4      Eva  40.0  Los Angeles  75000.0\n",
            "5    Frank  30.0      Chicago  62000.0\n",
            "6    Grace  32.0          NaN  58000.0\n",
            "7    Helen  27.0      Chicago  61000.0\n",
            "8      Ian   NaN     New York  54000.0\n",
            "9    Julia  29.0  Los Angeles  69000.0\n"
          ]
        }
      ],
      "source": [
        "import pandas as pd\n",
        "\n",
        "df = pd.read_csv('sample.csv')   # Load the CSV into a DataFrame\n",
        "print(df.head(10))               # Show the first 10 rows\n"
      ]
    },
    {
      "cell_type": "code",
      "execution_count": null,
      "metadata": {
        "colab": {
          "base_uri": "https://localhost:8080/"
        },
        "id": "rDfRtH-100Vq",
        "outputId": "c784a455-8e71-482d-ecc7-242fecbfb622"
      },
      "outputs": [
        {
          "name": "stdout",
          "output_type": "stream",
          "text": [
            "City\n",
            "Chicago        64333.333333\n",
            "Los Angeles    68000.000000\n",
            "New York       55370.370370\n",
            "Name: Salary, dtype: float64\n"
          ]
        }
      ],
      "source": [
        "grouped = df.groupby('City')['Salary'].mean()\n",
        "print(grouped)\n"
      ]
    },
    {
      "cell_type": "code",
      "execution_count": 20,
      "metadata": {
        "colab": {
          "base_uri": "https://localhost:8080/"
        },
        "id": "0cLfgsYK01CP",
        "outputId": "a9262457-72b6-48fe-a328-99df1becf174"
      },
      "outputs": [
        {
          "name": "stdout",
          "output_type": "stream",
          "text": [
            "      Name  Age     Location  Salary\n",
            "0    Alice   25     New York   50000\n",
            "1      Bob   30  Los Angeles   60000\n",
            "2  Charlie   35      Chicago   70000\n"
          ]
        }
      ],
      "source": [
        "df['Salary'] = df['Salary'].fillna(df['Salary'].mean())\n",
        "print(df)"
      ]
    },
    {
      "cell_type": "code",
      "execution_count": 18,
      "metadata": {
        "colab": {
          "base_uri": "https://localhost:8080/"
        },
        "id": "Zs67LNqo04Ic",
        "outputId": "b0e8179d-f5fe-423b-d1b2-4d6e0a2714ac"
      },
      "outputs": [
        {
          "name": "stdout",
          "output_type": "stream",
          "text": [
            "      Name  Age     Location  Salary\n",
            "0    Alice   25     New York   50000\n",
            "1      Bob   30  Los Angeles   60000\n",
            "2  Charlie   35      Chicago   70000\n"
          ]
        }
      ],
      "source": [
        "df = df.sort_values(by=['Age', 'Salary'], ascending=[True, False])\n",
        "print(df)\n"
      ]
    },
    {
      "cell_type": "markdown",
      "metadata": {
        "id": "92nTMtBw4L7B"
      },
      "source": [
        "Pandas advanced"
      ]
    },
    {
      "cell_type": "markdown",
      "metadata": {
        "id": "AROJeRa07-we"
      },
      "source": [
        "Pandas\n",
        "\n",
        "1.Perform a join operation between two DataFrames:\n",
        "df1 = pd.DataFrame({'ID': [1, 2, 3], 'Name': ['Alice', 'Bob', 'Charlie']})\n",
        "df2 = pd.DataFrame({'ID': [1, 2, 4], 'Score': [85, 90, 95]})\n",
        "\n",
        "2.Pivot a DataFrame with columns \"Date,\" \"City,\" and \"Temperature\" into a wide format where cities are columns.\n",
        "\n",
        "3.Use apply() to create a new column in a DataFrame based on complex logic (e.g., categorize \"Age\" into bins: child, adult, senior).\n",
        "\n",
        "4.Identify duplicate rows in a DataFrame and drop all but the first occurrence.\n"
      ]
    },
    {
      "cell_type": "code",
      "execution_count": null,
      "metadata": {
        "colab": {
          "base_uri": "https://localhost:8080/"
        },
        "id": "6bhxUyse4POf",
        "outputId": "bfcba40b-978b-4e0a-9fe0-7a500b5a1512"
      },
      "outputs": [
        {
          "name": "stdout",
          "output_type": "stream",
          "text": [
            "   ID   Name  Score\n",
            "0   1  Alice     85\n",
            "1   2    Bob     90\n"
          ]
        }
      ],
      "source": [
        "import pandas as pd\n",
        "\n",
        "# Create first DataFrame\n",
        "df1 = pd.DataFrame({\n",
        "    'ID': [1, 2, 3],\n",
        "    'Name': ['Alice', 'Bob', 'Charlie']\n",
        "})\n",
        "\n",
        "# Create second DataFrame\n",
        "df2 = pd.DataFrame({\n",
        "    'ID': [1, 2, 4],\n",
        "    'Score': [85, 90, 95]\n",
        "})\n",
        "\n",
        "# Perform an inner join on 'ID' column\n",
        "joined = pd.merge(df1, df2, on='ID', how='inner')\n",
        "print(joined)\n",
        "\n",
        "#inner means everything that align"
      ]
    },
    {
      "cell_type": "code",
      "execution_count": null,
      "metadata": {
        "colab": {
          "base_uri": "https://localhost:8080/"
        },
        "id": "KZO-ispk4RIy",
        "outputId": "aa6e38c2-0de4-46f4-a0b4-f34e34107a09"
      },
      "outputs": [
        {
          "name": "stdout",
          "output_type": "stream",
          "text": [
            "City        Los Angeles  New York\n",
            "Date                             \n",
            "2024-01-01           60        30\n",
            "2024-01-02           58        32\n"
          ]
        }
      ],
      "source": [
        "data = {\n",
        "    'Date': ['2024-01-01', '2024-01-01', '2024-01-02', '2024-01-02'],\n",
        "    'City': ['New York', 'Los Angeles', 'New York', 'Los Angeles'],\n",
        "    'Temperature': [30, 60, 32, 58]\n",
        "}\n",
        "\n",
        "df = pd.DataFrame(data)\n",
        "\n",
        "# Pivot so each city is a column\n",
        "pivoted = df.pivot(index='Date', columns='City', values='Temperature')\n",
        "print(pivoted)\n"
      ]
    },
    {
      "cell_type": "code",
      "execution_count": null,
      "metadata": {
        "colab": {
          "base_uri": "https://localhost:8080/"
        },
        "id": "rXZSvuEe4Ud9",
        "outputId": "6dd609cb-e5eb-4241-c556-5f7282db791c"
      },
      "outputs": [
        {
          "name": "stdout",
          "output_type": "stream",
          "text": [
            "      Name  Age Category\n",
            "0    Alice   12    Child\n",
            "1      Bob   25    Adult\n",
            "2  Charlie   70   Senior\n",
            "3    David   40    Adult\n"
          ]
        }
      ],
      "source": [
        "df = pd.DataFrame({\n",
        "    'Name': ['Alice', 'Bob', 'Charlie', 'David'],\n",
        "    'Age': [12, 25, 70, 40]\n",
        "})\n",
        "\n",
        "def categorize_age(age):\n",
        "    if age < 18:\n",
        "        return 'Child'\n",
        "    elif age < 60:\n",
        "        return 'Adult'\n",
        "    else:\n",
        "        return 'Senior'\n",
        "\n",
        "#  To Apply the function to create a new column\n",
        "df['Category'] = df['Age'].apply(categorize_age)\n",
        "print(df)\n"
      ]
    },
    {
      "cell_type": "code",
      "execution_count": null,
      "metadata": {
        "colab": {
          "base_uri": "https://localhost:8080/"
        },
        "id": "6CFnr4uJ4Ynr",
        "outputId": "3e27ef35-861d-45fa-d45c-c0a135832653"
      },
      "outputs": [
        {
          "name": "stdout",
          "output_type": "stream",
          "text": [
            "Duplicate rows:\n",
            "     Name  Age\n",
            "2  Alice   25\n",
            "4    Bob   30\n",
            "After dropping duplicates:\n",
            "       Name  Age\n",
            "0    Alice   25\n",
            "1      Bob   30\n",
            "3  Charlie   35\n"
          ]
        }
      ],
      "source": [
        "df = pd.DataFrame({\n",
        "    'Name': ['Alice', 'Bob', 'Alice', 'Charlie', 'Bob'],\n",
        "    'Age': [25, 30, 25, 35, 30]\n",
        "})\n",
        "\n",
        "# Find duplicates\n",
        "duplicates = df[df.duplicated()]\n",
        "print(\"Duplicate rows:\\n\", duplicates)\n",
        "\n",
        "# Drop all but the first occurrence\n",
        "df_cleaned = df.drop_duplicates()\n",
        "print(\"After dropping duplicates:\\n\", df_cleaned)\n"
      ]
    }
  ],
  "metadata": {
    "colab": {
      "provenance": []
    },
    "kernelspec": {
      "display_name": "Python 3",
      "name": "python3"
    },
    "language_info": {
      "codemirror_mode": {
        "name": "ipython",
        "version": 3
      },
      "file_extension": ".py",
      "mimetype": "text/x-python",
      "name": "python",
      "nbconvert_exporter": "python",
      "pygments_lexer": "ipython3",
      "version": "3.11.9"
    }
  },
  "nbformat": 4,
  "nbformat_minor": 0
}
